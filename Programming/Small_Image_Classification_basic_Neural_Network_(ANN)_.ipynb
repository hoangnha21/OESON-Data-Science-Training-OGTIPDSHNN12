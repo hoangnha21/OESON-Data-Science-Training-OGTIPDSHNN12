{
  "cells": [
    {
      "cell_type": "markdown",
      "metadata": {
        "id": "eoa4XEfbOOpW"
      },
      "source": [
        "<img src=\"images/small_images.jpg\" style=\"width:850px;height:600px;\">"
      ]
    },
    {
      "cell_type": "code",
      "execution_count": null,
      "metadata": {
        "id": "0_T2DHgTOOpW"
      },
      "outputs": [],
      "source": [
        "import tensorflow as tf\n",
        "from tensorflow.keras import datasets, layers, models\n",
        "import matplotlib.pyplot as plt\n",
        "import numpy as np"
      ]
    },
    {
      "cell_type": "markdown",
      "metadata": {
        "id": "iDPLu-2MOOpX"
      },
      "source": [
        "### Load the dataset"
      ]
    },
    {
      "cell_type": "code",
      "execution_count": null,
      "metadata": {
        "id": "XEA4PIIJOOpX",
        "outputId": "a33079af-ded9-4488-faa1-808d227346c5",
        "colab": {
          "base_uri": "https://localhost:8080/"
        }
      },
      "outputs": [
        {
          "output_type": "stream",
          "name": "stdout",
          "text": [
            "Downloading data from https://www.cs.toronto.edu/~kriz/cifar-10-python.tar.gz\n",
            "170498071/170498071 [==============================] - 3s 0us/step\n"
          ]
        },
        {
          "output_type": "execute_result",
          "data": {
            "text/plain": [
              "(50000, 32, 32, 3)"
            ]
          },
          "metadata": {},
          "execution_count": 2
        }
      ],
      "source": [
        "(X_train, y_train), (X_test,y_test) = datasets.cifar10.load_data()\n",
        "X_train.shape"
      ]
    },
    {
      "cell_type": "code",
      "execution_count": null,
      "metadata": {
        "id": "ijx8P2CBOOpX",
        "outputId": "40f946cc-416d-4106-be36-213b1f74190c",
        "colab": {
          "base_uri": "https://localhost:8080/"
        }
      },
      "outputs": [
        {
          "output_type": "execute_result",
          "data": {
            "text/plain": [
              "(10000, 32, 32, 3)"
            ]
          },
          "metadata": {},
          "execution_count": 3
        }
      ],
      "source": [
        "X_test.shape   "
      ]
    },
    {
      "cell_type": "markdown",
      "metadata": {
        "id": "nngCI1ZVOOpY"
      },
      "source": [
        "##### Here we see there are 50000 training images and 1000 test images"
      ]
    },
    {
      "cell_type": "code",
      "execution_count": null,
      "metadata": {
        "id": "Vw69qwUYOOpY",
        "outputId": "a6c73a96-3e00-4cdb-a5f1-b663f75e7127",
        "colab": {
          "base_uri": "https://localhost:8080/"
        }
      },
      "outputs": [
        {
          "output_type": "execute_result",
          "data": {
            "text/plain": [
              "(50000, 1)"
            ]
          },
          "metadata": {},
          "execution_count": 4
        }
      ],
      "source": [
        "y_train.shape"
      ]
    },
    {
      "cell_type": "code",
      "execution_count": null,
      "metadata": {
        "id": "A4dR_yWeOOpY",
        "outputId": "f672fe17-8080-441b-c0c5-d03ad814e72e",
        "colab": {
          "base_uri": "https://localhost:8080/"
        }
      },
      "outputs": [
        {
          "output_type": "execute_result",
          "data": {
            "text/plain": [
              "array([[6],\n",
              "       [9],\n",
              "       [9],\n",
              "       [4],\n",
              "       [1],\n",
              "       [1],\n",
              "       [2],\n",
              "       [7],\n",
              "       [8],\n",
              "       [3],\n",
              "       [4],\n",
              "       [7],\n",
              "       [7],\n",
              "       [2],\n",
              "       [9],\n",
              "       [9],\n",
              "       [9],\n",
              "       [3],\n",
              "       [2],\n",
              "       [6],\n",
              "       [4],\n",
              "       [3],\n",
              "       [6],\n",
              "       [6],\n",
              "       [2],\n",
              "       [6],\n",
              "       [3],\n",
              "       [5],\n",
              "       [4],\n",
              "       [0],\n",
              "       [0],\n",
              "       [9],\n",
              "       [1],\n",
              "       [3],\n",
              "       [4],\n",
              "       [0],\n",
              "       [3],\n",
              "       [7],\n",
              "       [3],\n",
              "       [3],\n",
              "       [5],\n",
              "       [2],\n",
              "       [2],\n",
              "       [7],\n",
              "       [1],\n",
              "       [1],\n",
              "       [1],\n",
              "       [2],\n",
              "       [2],\n",
              "       [0]], dtype=uint8)"
            ]
          },
          "metadata": {},
          "execution_count": 5
        }
      ],
      "source": [
        "y_train[:50]"
      ]
    },
    {
      "cell_type": "markdown",
      "metadata": {
        "id": "riyLt4iAOOpY"
      },
      "source": [
        "##### y_train is a 2D array, for our classification having 1D array is good enough. so we will convert this to now 1D array"
      ]
    },
    {
      "cell_type": "code",
      "execution_count": null,
      "metadata": {
        "id": "hAiJULp7OOpY",
        "outputId": "0f63636b-1e95-4eb3-a1a0-8c230c0a7941",
        "colab": {
          "base_uri": "https://localhost:8080/"
        }
      },
      "outputs": [
        {
          "output_type": "execute_result",
          "data": {
            "text/plain": [
              "array([6, 9, 9, 4, 1], dtype=uint8)"
            ]
          },
          "metadata": {},
          "execution_count": 6
        }
      ],
      "source": [
        "y_train = y_train.reshape(-1,)\n",
        "y_train[:5]"
      ]
    },
    {
      "cell_type": "code",
      "execution_count": null,
      "metadata": {
        "id": "-04p3oO7OOpY"
      },
      "outputs": [],
      "source": [
        "y_test = y_test.reshape(-1,)"
      ]
    },
    {
      "cell_type": "code",
      "execution_count": null,
      "metadata": {
        "id": "0TcuNdwZOOpY"
      },
      "outputs": [],
      "source": [
        "classes = [\"airplane\",\"automobile\",\"bird\",\"cat\",\"deer\",\"dog\",\"frog\",\"horse\",\"ship\",\"truck\"]"
      ]
    },
    {
      "cell_type": "markdown",
      "metadata": {
        "id": "pnGtg76uOOpY"
      },
      "source": [
        "### Let's plot some images to see what they are"
      ]
    },
    {
      "cell_type": "code",
      "execution_count": null,
      "metadata": {
        "id": "Brf_affaOOpY"
      },
      "outputs": [],
      "source": [
        "def plot_sample(X, y, index):\n",
        "    plt.figure(figsize = (15,2))\n",
        "    plt.imshow(X[index])\n",
        "    plt.xlabel(classes[y[index]])"
      ]
    },
    {
      "cell_type": "code",
      "execution_count": null,
      "metadata": {
        "id": "tbv_636QOOpY",
        "outputId": "75ce5c94-6ec4-469b-bbae-aa39b5ae44f7",
        "colab": {
          "base_uri": "https://localhost:8080/",
          "height": 173
        }
      },
      "outputs": [
        {
          "output_type": "display_data",
          "data": {
            "text/plain": [
              "<Figure size 1080x144 with 1 Axes>"
            ],
            "image/png": "[encoded data removed]"
          },
          "metadata": {
            "needs_background": "light"
          }
        }
      ],
      "source": [
        "plot_sample(X_train, y_train, 3)"
      ]
    },
    {
      "cell_type": "code",
      "execution_count": null,
      "metadata": {
        "id": "IulzQiNtOOpZ",
        "outputId": "3eb3db0c-1d33-4749-c0b4-924a8b43262b",
        "colab": {
          "base_uri": "https://localhost:8080/",
          "height": 173
        }
      },
      "outputs": [
        {
          "output_type": "display_data",
          "data": {
            "text/plain": [
              "<Figure size 1080x144 with 1 Axes>"
            ],
            "image/png": "[encoded data removed]"
          },
          "metadata": {
            "needs_background": "light"
          }
        }
      ],
      "source": [
        "plot_sample(X_train, y_train, 1)"
      ]
    },
    {
      "cell_type": "markdown",
      "metadata": {
        "id": "WMBquaWWOOpZ"
      },
      "source": [
        "Normalize the images to a number from 0 to 1. Image has 3 channels (R,G,B) and each value in the channel can range from 0 to 255. Hence to normalize in 0-->1 range, we need to divide it by 255\n",
        "\n",
        "### Normalizing the training data"
      ]
    },
    {
      "cell_type": "code",
      "execution_count": null,
      "metadata": {
        "id": "qq8kijtdOOpZ"
      },
      "outputs": [],
      "source": [
        "X_train = X_train / 255.0\n",
        "X_test = X_test / 255.0"
      ]
    },
    {
      "cell_type": "markdown",
      "metadata": {
        "id": "sPzL8J5SOOpZ"
      },
      "source": [
        "### Build simple artificial neural network for image classification"
      ]
    },
    {
      "cell_type": "code",
      "execution_count": null,
      "metadata": {
        "id": "AGvYJtfSOOpZ",
        "outputId": "20fceb01-c2de-4ebb-b94b-f184425e4c28",
        "colab": {
          "base_uri": "https://localhost:8080/"
        }
      },
      "outputs": [
        {
          "output_type": "stream",
          "name": "stdout",
          "text": [
            "Epoch 1/5\n",
            "1563/1563 [==============================] - 89s 56ms/step - loss: 1.8107 - accuracy: 0.3563\n",
            "Epoch 2/5\n",
            "1563/1563 [==============================] - 84s 54ms/step - loss: 1.6201 - accuracy: 0.4292\n",
            "Epoch 3/5\n",
            "1563/1563 [==============================] - 81s 52ms/step - loss: 1.5393 - accuracy: 0.4575\n",
            "Epoch 4/5\n",
            "1563/1563 [==============================] - 82s 52ms/step - loss: 1.4785 - accuracy: 0.4816\n",
            "Epoch 5/5\n",
            "1563/1563 [==============================] - 81s 52ms/step - loss: 1.4288 - accuracy: 0.4980\n"
          ]
        },
        {
          "output_type": "execute_result",
          "data": {
            "text/plain": [
              "<keras.callbacks.History at 0x7f5026cc0550>"
            ]
          },
          "metadata": {},
          "execution_count": 13
        }
      ],
      "source": [
        "ann = models.Sequential([\n",
        "        layers.Flatten(input_shape=(32,32,3)),\n",
        "        layers.Dense(3000, activation='relu'),\n",
        "        layers.Dense(1000, activation='relu'),\n",
        "        layers.Dense(10, activation='sigmoid')    \n",
        "    ])\n",
        "\n",
        "ann.compile(optimizer='SGD',\n",
        "              loss='sparse_categorical_crossentropy',\n",
        "              metrics=['accuracy'])\n",
        "\n",
        "ann.fit(X_train, y_train, epochs=5)"
      ]
    },
    {
      "cell_type": "code",
      "source": [
        "y_pred=ann.predict(X_test)\n",
        "y_pred[:5]"
      ],
      "metadata": {
        "colab": {
          "base_uri": "https://localhost:8080/"
        },
        "id": "Ie9TSuRxWHgm",
        "outputId": "ad0b1162-eb37-4717-a168-b43e6dfa7cae"
      },
      "execution_count": null,
      "outputs": [
        {
          "output_type": "stream",
          "name": "stdout",
          "text": [
            "313/313 [==============================] - 6s 20ms/step\n"
          ]
        },
        {
          "output_type": "execute_result",
          "data": {
            "text/plain": [
              "array([[0.31204817, 0.48341012, 0.69349027, 0.92512286, 0.4874879 ,\n",
              "        0.81403923, 0.8258061 , 0.04120064, 0.6220263 , 0.13241076],\n",
              "       [0.8553832 , 0.9199748 , 0.3105165 , 0.23525131, 0.14410824,\n",
              "        0.1115515 , 0.04404804, 0.16192219, 0.96571314, 0.98985726],\n",
              "       [0.9460851 , 0.85861343, 0.41315004, 0.23692055, 0.20141615,\n",
              "        0.15882446, 0.01304177, 0.16832182, 0.97213835, 0.9380456 ],\n",
              "       [0.86386365, 0.4437465 , 0.7230054 , 0.42156103, 0.49256128,\n",
              "        0.34409925, 0.04248784, 0.4164341 , 0.92035353, 0.52756274],\n",
              "       [0.1380847 , 0.04589659, 0.84032434, 0.70771396, 0.97058964,\n",
              "        0.7140808 , 0.91816926, 0.39674166, 0.27762794, 0.04220056]],\n",
              "      dtype=float32)"
            ]
          },
          "metadata": {},
          "execution_count": 16
        }
      ]
    },
    {
      "cell_type": "markdown",
      "metadata": {
        "id": "k4OoGIY5OOpZ"
      },
      "source": [
        "### You can see that at the end of 5 epochs, accuracy is at around 48.48%"
      ]
    },
    {
      "cell_type": "code",
      "execution_count": null,
      "metadata": {
        "id": "V6WmP3nGOOpZ",
        "outputId": "63d132d5-6d19-432e-e953-92e546e82c07",
        "colab": {
          "base_uri": "https://localhost:8080/"
        }
      },
      "outputs": [
        {
          "output_type": "stream",
          "name": "stdout",
          "text": [
            "313/313 [==============================] - 7s 21ms/step\n",
            "Classification Report: \n",
            "               precision    recall  f1-score   support\n",
            "\n",
            "           0       0.66      0.39      0.49      1000\n",
            "           1       0.71      0.43      0.53      1000\n",
            "           2       0.34      0.42      0.37      1000\n",
            "           3       0.37      0.32      0.34      1000\n",
            "           4       0.42      0.39      0.41      1000\n",
            "           5       0.47      0.29      0.36      1000\n",
            "           6       0.39      0.70      0.50      1000\n",
            "           7       0.66      0.43      0.52      1000\n",
            "           8       0.52      0.74      0.61      1000\n",
            "           9       0.51      0.64      0.56      1000\n",
            "\n",
            "    accuracy                           0.48     10000\n",
            "   macro avg       0.50      0.48      0.47     10000\n",
            "weighted avg       0.50      0.48      0.47     10000\n",
            "\n"
          ]
        }
      ],
      "source": [
        "from sklearn.metrics import confusion_matrix , classification_report\n",
        "import numpy as np\n",
        "y_pred = ann.predict(X_test)\n",
        "y_pred_classes = [np.argmax(element) for element in y_pred]\n",
        "\n",
        "print(\"Classification Report: \\n\", classification_report(y_test, y_pred_classes))"
      ]
    },
    {
      "cell_type": "code",
      "execution_count": null,
      "metadata": {
        "id": "6U0f9IooOOpa"
      },
      "outputs": [],
      "source": []
    }
  ],
  "metadata": {
    "kernelspec": {
      "display_name": "Python 3",
      "language": "python",
      "name": "python3"
    },
    "language_info": {
      "codemirror_mode": {
        "name": "ipython",
        "version": 3
      },
      "file_extension": ".py",
      "mimetype": "text/x-python",
      "name": "python",
      "nbconvert_exporter": "python",
      "pygments_lexer": "ipython3",
      "version": "3.7.3"
    },
    "colab": {
      "provenance": []
    }
  },
  "nbformat": 4,
  "nbformat_minor": 0
}