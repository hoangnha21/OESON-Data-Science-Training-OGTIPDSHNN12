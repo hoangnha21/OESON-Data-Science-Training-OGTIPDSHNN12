{
  "cells": [
    {
      "cell_type": "markdown",
      "metadata": {
        "id": "9TnJztDZGw-n"
      },
      "source": [
        "# Text classification with an RNN"
      ]
    },
    {
      "cell_type": "markdown",
      "metadata": {
        "id": "lUWearf0Gw-p"
      },
      "source": [
        "This text classification tutorial trains a [recurrent neural network](https://developers.google.com/machine-learning/glossary/#recurrent_neural_network) on the [IMDB large movie review dataset](http://ai.stanford.edu/~amaas/data/sentiment/) for sentiment analysis."
      ]
    },
    {
      "cell_type": "markdown",
      "metadata": {
        "id": "_2VQo4bajwUU"
      },
      "source": [
        "## Setup"
      ]
    },
    {
      "cell_type": "code",
      "execution_count": null,
      "metadata": {
        "id": "z682XYsrjkY9"
      },
      "outputs": [],
      "source": [
        "import numpy as np\n",
        "\n",
        "import tensorflow_datasets as tfds\n",
        "import tensorflow as tf\n",
        "\n",
        "tfds.disable_progress_bar()"
      ]
    },
    {
      "cell_type": "markdown",
      "metadata": {
        "id": "1rXHa-w9JZhb"
      },
      "source": [
        "Import `matplotlib` and create a helper function to plot graphs:"
      ]
    },
    {
      "cell_type": "code",
      "execution_count": null,
      "metadata": {
        "id": "Mp1Z7P9pYRSK"
      },
      "outputs": [],
      "source": [
        "import matplotlib.pyplot as plt\n",
        "\n",
        "\n",
        "def plot_graphs(history, metric):\n",
        "  plt.plot(history.history[metric])\n",
        "  plt.plot(history.history['val_'+metric], '')\n",
        "  plt.xlabel(\"Epochs\")\n",
        "  plt.ylabel(metric)\n",
        "  plt.legend([metric, 'val_'+metric])"
      ]
    },
    {
      "cell_type": "markdown",
      "metadata": {
        "id": "pRmMubr0jrE2"
      },
      "source": [
        "## Setup input pipeline\n",
        "\n",
        "\n",
        "The IMDB large movie review dataset is a *binary classification* dataset—all the reviews have either a *positive* or *negative* sentiment.\n",
        "\n",
        "Download the dataset using [TFDS](https://www.tensorflow.org/datasets). See the [loading text tutorial](https://www.tensorflow.org/tutorials/load_data/text) for details on how to load this sort of data manually.\n"
      ]
    },
    {
      "cell_type": "code",
      "execution_count": null,
      "metadata": {
        "id": "SHRwRoP2nVHX",
        "outputId": "119b98c0-d674-40d9-c9cd-ab332a6d1e95",
        "colab": {
          "base_uri": "https://localhost:8080/"
        }
      },
      "outputs": [
        {
          "output_type": "stream",
          "name": "stdout",
          "text": [
            "Downloading and preparing dataset Unknown size (download: Unknown size, generated: Unknown size, total: Unknown size) to /root/tensorflow_datasets/imdb_reviews/plain_text/1.0.0...\n",
            "Dataset imdb_reviews downloaded and prepared to /root/tensorflow_datasets/imdb_reviews/plain_text/1.0.0. Subsequent calls will reuse this data.\n"
          ]
        },
        {
          "output_type": "execute_result",
          "data": {
            "text/plain": [
              "(TensorSpec(shape=(), dtype=tf.string, name=None),\n",
              " TensorSpec(shape=(), dtype=tf.int64, name=None))"
            ]
          },
          "metadata": {},
          "execution_count": 4
        }
      ],
      "source": [
        "dataset, info = tfds.load('imdb_reviews', with_info=True,\n",
        "                          as_supervised=True)\n",
        "train_dataset, test_dataset = dataset['train'], dataset['test']\n",
        "\n",
        "train_dataset.element_spec"
      ]
    },
    {
      "cell_type": "markdown",
      "metadata": {
        "id": "nWA4c2ir7g6p"
      },
      "source": [
        "Initially this returns a dataset of (text, label pairs):"
      ]
    },
    {
      "cell_type": "code",
      "execution_count": null,
      "metadata": {
        "id": "vd4_BGKyurao",
        "outputId": "23ae6ac7-af8d-4b0b-911c-4671d38f8ec3",
        "colab": {
          "base_uri": "https://localhost:8080/"
        }
      },
      "outputs": [
        {
          "output_type": "stream",
          "name": "stdout",
          "text": [
            "text:  b\"This was an absolutely terrible movie. Don't be lured in by Christopher Walken or Michael Ironside. Both are great actors, but this must simply be their worst role in history. Even their great acting could not redeem this movie's ridiculous storyline. This movie is an early nineties US propaganda piece. The most pathetic scenes were those when the Columbian rebels were making their cases for revolutions. Maria Conchita Alonso appeared phony, and her pseudo-love affair with Walken was nothing but a pathetic emotional plug in a movie that was devoid of any real meaning. I am disappointed that there are movies like this, ruining actor's like Christopher Walken's good name. I could barely sit through it.\"\n",
            "label:  0\n"
          ]
        }
      ],
      "source": [
        "for example, label in train_dataset.take(1):\n",
        "  print('text: ', example.numpy())\n",
        "  print('label: ', label.numpy())"
      ]
    },
    {
      "cell_type": "markdown",
      "metadata": {
        "id": "z2qVJzcEluH_"
      },
      "source": [
        "Next shuffle the data for training and create batches of these `(text, label)` pairs:"
      ]
    },
    {
      "cell_type": "code",
      "execution_count": null,
      "metadata": {
        "id": "dDsCaZCDYZgm"
      },
      "outputs": [],
      "source": [
        "BUFFER_SIZE = 10000\n",
        "BATCH_SIZE = 64"
      ]
    },
    {
      "cell_type": "code",
      "execution_count": null,
      "metadata": {
        "id": "VznrltNOnUc5"
      },
      "outputs": [],
      "source": [
        "train_dataset = train_dataset.shuffle(BUFFER_SIZE).batch(BATCH_SIZE).prefetch(tf.data.AUTOTUNE)\n",
        "test_dataset = test_dataset.batch(BATCH_SIZE).prefetch(tf.data.AUTOTUNE)"
      ]
    },
    {
      "cell_type": "code",
      "execution_count": null,
      "metadata": {
        "id": "jqkvdcFv41wC",
        "outputId": "d0bebe9c-e99d-4348-e1b6-2b8ed82f16e9",
        "colab": {
          "base_uri": "https://localhost:8080/"
        }
      },
      "outputs": [
        {
          "output_type": "stream",
          "name": "stdout",
          "text": [
            "texts:  [b\"The year is 1896.Jeff Webster (James Stewart) doesn't like people.There's only one friend he's got and he's Ben Tatum (Walter Brennan), an old sympathetic man.They're driving a cattle herd with them.That would be their key to richness.In Skagway they run into trouble when Sheriff Gannon (John McIntire) takes the cattle.Now Jeff only has to get it back and drive it through the U.S. Canadian border to Dawson.Now they have a group of other people with them, like the ladies Ronda Castle (Ruth Roman) and Renee Vallon (Corinne Calvet).There the two men get into the gold business.Anthony Mann's and James Stewart's fourth collaboration, The Far Country (1954) is a fine western, indeed.The acting work is superb.Walter Brennan makes a terrific sidekick to Stewart.Ruth Roman is brilliant and Corinne Calvet's delightful.Jay C. Flippen is very good as Dawson Marshal Rube Morris.The great Jack Elam and Kathleen Freeman are seen in smaller roles.It's fantastic to watch how Jimmy Stewart overcome's all the troubles in his way.There's just the man and his rifle.But also he's vulnerable.\"\n",
            " b\"Lame, lame, lame!!! A 90-minute cringe-fest that's 89 minutes too long. A setting ripe with atmosphere and possibility (an abandoned convent) is squandered by a stinker of a script filled with clunky, witless dialogue that's straining oh-so-hard to be hip. Mostly it's just embarrassing, and the attempts at gonzo horror fall flat (a sample of this movie's dialogue: after demonstrating her artillery, fast dolly shot to a closeup of Barbeau's vigilante character\\xc2\\x85she: `any questions?' hyuck hyuck hyuck). Bad acting, idiotic, homophobic jokes and judging from the creature effects, it looks like the director's watched `The Evil Dead' way too many times. <br /><br />I owe my friends big time for renting this turkey and subjecting them to ninety wasted minutes they'll never get back. What a turd.\"\n",
            " b\"This one grew on me. I love the R.D. Burman music and in spite of the cruder elements of the story I found much to be moved by as I kept re-watching the movie. The brother-sister plot line is powerful, I thought; there's also more probably obligatory stuff, like bar fights, a loony crime story, etc. that are just distracting. (Though not unfunny from a certain point of view.) Also the English translation is definitely by someone for whom it was a bit of a stretch, and as loony as it is I am grateful to him for doing it.<br /><br />Like many of the Bollywood movies I've seen, this one is melodramatic and opera-like, including here notably a song sung first by a little boy to cheer up his abused and unhappy sister, and then the same song sung 12 or so years later by the man who has travelled to Kathmandu seeking to re-connect with this girl, grown up and troubled (she had been told her brother and mother were dead), numbing her pain with drugs.<br /><br />A super thing about this 1971 movie is that it is about the hippie movement, which brought hordes of seekers to India, from an Indian point of view, that sees them as people driven to India by a spiritual hunger aroused by the failings of their own societies, but nonetheless, in India, living only for the pleasures of the moment. The hippie singing-dancing-drugging scenes are truly wonderful, and accurate in their tone (I'm old enough to remember), and I feel pretty sure that the masses of young white zoned-out kids are actual hippie extras, as I remember hearing about kids on the caravan to the East getting this kind of work in Bollywood.<br /><br />(It is not about the actual Hare Krishna movement, though the movie hippies sing a Krishna/Rama chant, as do a group of actual Indian devotees, unrelated to the hippies, in the opening scene of the movie.)<br /><br />~Virginia\"]\n",
            "\n",
            "labels:  [1 0 1]\n"
          ]
        }
      ],
      "source": [
        "for example, label in train_dataset.take(1):\n",
        "  print('texts: ', example.numpy()[:3])\n",
        "  print()\n",
        "  print('labels: ', label.numpy()[:3])"
      ]
    },
    {
      "cell_type": "markdown",
      "metadata": {
        "id": "s5eWCo88voPY"
      },
      "source": [
        "## Create the text encoder"
      ]
    },
    {
      "cell_type": "markdown",
      "metadata": {
        "id": "TFevcItw15P_"
      },
      "source": [
        "The raw text loaded by `tfds` needs to be processed before it can be used in a model. The simplest way to process text for training is using the `TextVectorization` layer. This layer has many capabilities, but this tutorial sticks to the default behavior.\n",
        "\n",
        "Create the layer, and pass the dataset's text to the layer's `.adapt` method:"
      ]
    },
    {
      "cell_type": "code",
      "execution_count": null,
      "metadata": {
        "id": "uC25Lu1Yvuqy",
        "outputId": "b554bee4-3e0b-4fd9-c707-d53472d8df33",
        "colab": {
          "base_uri": "https://localhost:8080/"
        }
      },
      "outputs": [
        {
          "output_type": "stream",
          "name": "stderr",
          "text": [
            "WARNING:tensorflow:From /usr/local/lib/python3.9/dist-packages/tensorflow/python/autograph/pyct/static_analysis/liveness.py:83: Analyzer.lamba_check (from tensorflow.python.autograph.pyct.static_analysis.liveness) is deprecated and will be removed after 2023-09-23.\n",
            "Instructions for updating:\n",
            "Lambda fuctions will be no more assumed to be used in the statement where they are used, or at least in the same block. https://github.com/tensorflow/tensorflow/issues/56089\n"
          ]
        }
      ],
      "source": [
        "VOCAB_SIZE = 1000\n",
        "encoder = tf.keras.layers.TextVectorization(\n",
        "    max_tokens=VOCAB_SIZE)\n",
        "encoder.adapt(train_dataset.map(lambda text, label: text))"
      ]
    },
    {
      "cell_type": "markdown",
      "metadata": {
        "id": "IuQzVBbe3Ldu"
      },
      "source": [
        "The `.adapt` method sets the layer's vocabulary. Here are the first 20 tokens. After the padding and unknown tokens they're sorted by frequency: "
      ]
    },
    {
      "cell_type": "code",
      "execution_count": null,
      "metadata": {
        "id": "tBoyjjWg0Ac9",
        "outputId": "faad2645-214a-4e00-ae5a-218008c746af",
        "colab": {
          "base_uri": "https://localhost:8080/"
        }
      },
      "outputs": [
        {
          "output_type": "execute_result",
          "data": {
            "text/plain": [
              "array(['', '[UNK]', 'the', 'and', 'a', 'of', 'to', 'is', 'in', 'it', 'i',\n",
              "       'this', 'that', 'br', 'was', 'as', 'for', 'with', 'movie', 'but'],\n",
              "      dtype='<U14')"
            ]
          },
          "metadata": {},
          "execution_count": 10
        }
      ],
      "source": [
        "vocab = np.array(encoder.get_vocabulary())\n",
        "vocab[:20]"
      ]
    },
    {
      "cell_type": "markdown",
      "metadata": {
        "id": "mjId5pua3jHQ"
      },
      "source": [
        "Once the vocabulary is set, the layer can encode text into indices. The tensors of indices are 0-padded to the longest sequence in the batch (unless you set a fixed `output_sequence_length`):"
      ]
    },
    {
      "cell_type": "code",
      "execution_count": null,
      "metadata": {
        "id": "RGc7C9WiwRWs",
        "outputId": "eb720649-66bf-411a-b56f-822feb533df1",
        "colab": {
          "base_uri": "https://localhost:8080/"
        }
      },
      "outputs": [
        {
          "output_type": "execute_result",
          "data": {
            "text/plain": [
              "array([[  2, 336,   7, ...,   0,   0,   0],\n",
              "       [836, 836, 836, ...,   0,   0,   0],\n",
              "       [ 11,  29,   1, ...,   0,   0,   0]])"
            ]
          },
          "metadata": {},
          "execution_count": 11
        }
      ],
      "source": [
        "encoded_example = encoder(example)[:3].numpy()\n",
        "encoded_example"
      ]
    },
    {
      "cell_type": "markdown",
      "metadata": {
        "id": "F5cjz0bS39IN"
      },
      "source": [
        "With the default settings, the process is not completely reversible. There are three main reasons for that:\n",
        "\n",
        "1. The default value for `preprocessing.TextVectorization`'s `standardize` argument is `\"lower_and_strip_punctuation\"`.\n",
        "2. The limited vocabulary size and lack of character-based fallback results in some unknown tokens."
      ]
    },
    {
      "cell_type": "code",
      "execution_count": null,
      "metadata": {
        "id": "N_tD0QY5wXaK",
        "outputId": "3b5041b9-1b62-489b-b73b-a433ac000c62",
        "colab": {
          "base_uri": "https://localhost:8080/"
        }
      },
      "outputs": [
        {
          "output_type": "stream",
          "name": "stdout",
          "text": [
            "Original:  b\"The year is 1896.Jeff Webster (James Stewart) doesn't like people.There's only one friend he's got and he's Ben Tatum (Walter Brennan), an old sympathetic man.They're driving a cattle herd with them.That would be their key to richness.In Skagway they run into trouble when Sheriff Gannon (John McIntire) takes the cattle.Now Jeff only has to get it back and drive it through the U.S. Canadian border to Dawson.Now they have a group of other people with them, like the ladies Ronda Castle (Ruth Roman) and Renee Vallon (Corinne Calvet).There the two men get into the gold business.Anthony Mann's and James Stewart's fourth collaboration, The Far Country (1954) is a fine western, indeed.The acting work is superb.Walter Brennan makes a terrific sidekick to Stewart.Ruth Roman is brilliant and Corinne Calvet's delightful.Jay C. Flippen is very good as Dawson Marshal Rube Morris.The great Jack Elam and Kathleen Freeman are seen in smaller roles.It's fantastic to watch how Jimmy Stewart overcome's all the troubles in his way.There's just the man and his rifle.But also he's vulnerable.\"\n",
            "Round-trip:  the year is [UNK] [UNK] james [UNK] doesnt like [UNK] only one friend hes got and hes [UNK] [UNK] [UNK] [UNK] an old [UNK] [UNK] [UNK] a [UNK] [UNK] with [UNK] would be their [UNK] to [UNK] [UNK] they run into [UNK] when [UNK] [UNK] john [UNK] takes the [UNK] [UNK] only has to get it back and [UNK] it through the us [UNK] [UNK] to [UNK] they have a group of other people with them like the [UNK] [UNK] [UNK] [UNK] [UNK] and [UNK] [UNK] [UNK] [UNK] the two men get into the [UNK] [UNK] [UNK] and james [UNK] [UNK] [UNK] the far country [UNK] is a fine [UNK] [UNK] acting work is [UNK] [UNK] makes a [UNK] [UNK] to [UNK] [UNK] is brilliant and [UNK] [UNK] [UNK] [UNK] [UNK] is very good as [UNK] [UNK] [UNK] [UNK] great jack [UNK] and [UNK] [UNK] are seen in [UNK] [UNK] fantastic to watch how [UNK] [UNK] [UNK] all the [UNK] in his [UNK] just the man and his [UNK] also hes [UNK]                                                                                                                                                                                                                                                                                                                                                                                                                                                                                                                                                                                                            \n",
            "\n",
            "Original:  b\"Lame, lame, lame!!! A 90-minute cringe-fest that's 89 minutes too long. A setting ripe with atmosphere and possibility (an abandoned convent) is squandered by a stinker of a script filled with clunky, witless dialogue that's straining oh-so-hard to be hip. Mostly it's just embarrassing, and the attempts at gonzo horror fall flat (a sample of this movie's dialogue: after demonstrating her artillery, fast dolly shot to a closeup of Barbeau's vigilante character\\xc2\\x85she: `any questions?' hyuck hyuck hyuck). Bad acting, idiotic, homophobic jokes and judging from the creature effects, it looks like the director's watched `The Evil Dead' way too many times. <br /><br />I owe my friends big time for renting this turkey and subjecting them to ninety wasted minutes they'll never get back. What a turd.\"\n",
            "Round-trip:  lame lame lame a [UNK] [UNK] thats [UNK] minutes too long a setting [UNK] with atmosphere and [UNK] an [UNK] [UNK] is [UNK] by a [UNK] of a script [UNK] with [UNK] [UNK] dialogue thats [UNK] [UNK] to be [UNK] mostly its just [UNK] and the attempts at [UNK] horror fall [UNK] a [UNK] of this movies dialogue after [UNK] her [UNK] fast [UNK] shot to a [UNK] of [UNK] [UNK] [UNK] any [UNK] [UNK] [UNK] [UNK] bad acting [UNK] [UNK] jokes and [UNK] from the [UNK] effects it looks like the directors watched the evil dead way too many times br br i [UNK] my friends big time for [UNK] this [UNK] and [UNK] them to [UNK] [UNK] minutes [UNK] never get back what a [UNK]                                                                                                                                                                                                                                                                                                                                                                                                                                                                                                                                                                                                                                                         \n",
            "\n",
            "Original:  b\"This one grew on me. I love the R.D. Burman music and in spite of the cruder elements of the story I found much to be moved by as I kept re-watching the movie. The brother-sister plot line is powerful, I thought; there's also more probably obligatory stuff, like bar fights, a loony crime story, etc. that are just distracting. (Though not unfunny from a certain point of view.) Also the English translation is definitely by someone for whom it was a bit of a stretch, and as loony as it is I am grateful to him for doing it.<br /><br />Like many of the Bollywood movies I've seen, this one is melodramatic and opera-like, including here notably a song sung first by a little boy to cheer up his abused and unhappy sister, and then the same song sung 12 or so years later by the man who has travelled to Kathmandu seeking to re-connect with this girl, grown up and troubled (she had been told her brother and mother were dead), numbing her pain with drugs.<br /><br />A super thing about this 1971 movie is that it is about the hippie movement, which brought hordes of seekers to India, from an Indian point of view, that sees them as people driven to India by a spiritual hunger aroused by the failings of their own societies, but nonetheless, in India, living only for the pleasures of the moment. The hippie singing-dancing-drugging scenes are truly wonderful, and accurate in their tone (I'm old enough to remember), and I feel pretty sure that the masses of young white zoned-out kids are actual hippie extras, as I remember hearing about kids on the caravan to the East getting this kind of work in Bollywood.<br /><br />(It is not about the actual Hare Krishna movement, though the movie hippies sing a Krishna/Rama chant, as do a group of actual Indian devotees, unrelated to the hippies, in the opening scene of the movie.)<br /><br />~Virginia\"\n",
            "Round-trip:  this one [UNK] on me i love the [UNK] [UNK] music and in [UNK] of the [UNK] elements of the story i found much to be [UNK] by as i kept [UNK] the movie the [UNK] plot line is powerful i thought theres also more probably [UNK] stuff like [UNK] [UNK] a [UNK] crime story etc that are just [UNK] though not [UNK] from a certain point of view also the english [UNK] is definitely by someone for whom it was a bit of a [UNK] and as [UNK] as it is i am [UNK] to him for doing itbr br like many of the [UNK] movies ive seen this one is [UNK] and [UNK] including here [UNK] a song [UNK] first by a little boy to [UNK] up his [UNK] and [UNK] sister and then the same song [UNK] [UNK] or so years later by the man who has [UNK] to [UNK] [UNK] to [UNK] with this girl [UNK] up and [UNK] she had been told her brother and mother were dead [UNK] her [UNK] with [UNK] br a [UNK] thing about this [UNK] movie is that it is about the [UNK] [UNK] which brought [UNK] of [UNK] to [UNK] from an [UNK] point of view that [UNK] them as people [UNK] to [UNK] by a [UNK] [UNK] [UNK] by the [UNK] of their own [UNK] but [UNK] in [UNK] living only for the [UNK] of the moment the [UNK] [UNK] scenes are truly wonderful and [UNK] in their [UNK] im old enough to remember and i feel pretty sure that the [UNK] of young white [UNK] kids are actual [UNK] [UNK] as i remember [UNK] about kids on the [UNK] to the [UNK] getting this kind of work in [UNK] br it is not about the actual [UNK] [UNK] [UNK] though the movie [UNK] [UNK] a [UNK] [UNK] as do a group of actual [UNK] [UNK] [UNK] to the [UNK] in the opening scene of the moviebr br [UNK]                                                                                                                                                                                                                                                                                                                                                                                                                                             \n",
            "\n"
          ]
        }
      ],
      "source": [
        "for n in range(3):\n",
        "  print(\"Original: \", example[n].numpy())\n",
        "  print(\"Round-trip: \", \" \".join(vocab[encoded_example[n]]))\n",
        "  print()"
      ]
    },
    {
      "cell_type": "markdown",
      "metadata": {
        "id": "bjUqGVBxGw-t"
      },
      "source": [
        "## Create the model"
      ]
    },
    {
      "cell_type": "markdown",
      "metadata": {
        "id": "W7zsmInBOCPO"
      },
      "source": [
        "![A drawing of the information flow in the model](https://github.com/tensorflow/text/blob/master/docs/tutorials/images/bidirectional.png?raw=1)"
      ]
    },
    {
      "cell_type": "markdown",
      "metadata": {
        "id": "bgs6nnSTGw-t"
      },
      "source": [
        "Above is a diagram of the model. \n",
        "\n",
        "1. This model can be build as a `tf.keras.Sequential`.\n",
        "\n",
        "2. The first layer is the `encoder`, which converts the text to a sequence of token indices.\n",
        "\n",
        "3. After the encoder is an embedding layer. An embedding layer stores one vector per word. When called, it converts the sequences of word indices to sequences of vectors. These vectors are trainable. After training (on enough data), words with similar meanings often have similar vectors.\n",
        "\n",
        "  This index-lookup is much more efficient than the equivalent operation of passing a one-hot encoded vector through a `tf.keras.layers.Dense` layer.\n",
        "\n",
        "4. A recurrent neural network (RNN) processes sequence input by iterating through the elements. RNNs pass the outputs from one timestep to their input on the next timestep.\n",
        "\n",
        "  The `tf.keras.layers.Bidirectional` wrapper can also be used with an RNN layer. This propagates the input forward and backwards through the RNN layer and then concatenates the final output. \n",
        "\n",
        "  * The main advantage of a bidirectional RNN is that the signal from the beginning of the input doesn't need to be processed all the way through every timestep to affect the output.  \n",
        "\n",
        "  * The main disadvantage of a bidirectional RNN is that you can't efficiently stream predictions as words are being added to the end.\n",
        "\n",
        "5. After the RNN has converted the sequence to a single vector the two `layers.Dense` do some final processing, and convert from this vector representation to a single logit as the classification output. \n"
      ]
    },
    {
      "cell_type": "markdown",
      "metadata": {
        "id": "V4fodCI7soQi"
      },
      "source": [
        "The code to implement this is below:"
      ]
    },
    {
      "cell_type": "code",
      "execution_count": null,
      "metadata": {
        "id": "LwfoBkmRYcP3"
      },
      "outputs": [],
      "source": [
        "model = tf.keras.Sequential([\n",
        "    encoder,\n",
        "    tf.keras.layers.Embedding(\n",
        "        input_dim=len(encoder.get_vocabulary()),\n",
        "        output_dim=64,\n",
        "        # Use masking to handle the variable sequence lengths\n",
        "        mask_zero=True),\n",
        "    tf.keras.layers.Bidirectional(tf.keras.layers.LSTM(64)),\n",
        "    tf.keras.layers.Dense(64, activation='relu'),\n",
        "    tf.keras.layers.Dense(1)\n",
        "])"
      ]
    },
    {
      "cell_type": "markdown",
      "metadata": {
        "id": "kF-PsCk1LwjY"
      },
      "source": [
        "The embedding layer [uses masking](https://www.tensorflow.org/guide/keras/masking_and_padding) to handle the varying sequence-lengths. All the layers after the `Embedding` support masking:"
      ]
    },
    {
      "cell_type": "code",
      "execution_count": null,
      "metadata": {
        "id": "87a8-CwfKebw",
        "outputId": "92280144-d1b0-4d44-c8c1-8140032d996a",
        "colab": {
          "base_uri": "https://localhost:8080/"
        }
      },
      "outputs": [
        {
          "output_type": "stream",
          "name": "stdout",
          "text": [
            "[False, True, True, True, True]\n"
          ]
        }
      ],
      "source": [
        "print([layer.supports_masking for layer in model.layers])"
      ]
    },
    {
      "cell_type": "markdown",
      "metadata": {
        "id": "ZlS0iaUIWLpI"
      },
      "source": [
        "To confirm that this works as expected, evaluate a sentence twice. First, alone so there's no padding to mask:"
      ]
    },
    {
      "cell_type": "code",
      "execution_count": null,
      "metadata": {
        "id": "O41gw3KfWHus",
        "outputId": "0a6bceef-97b1-4387-8ef8-764c04860f7d",
        "colab": {
          "base_uri": "https://localhost:8080/"
        }
      },
      "outputs": [
        {
          "output_type": "stream",
          "name": "stdout",
          "text": [
            "1/1 [==============================] - 6s 6s/step\n",
            "[0.00657894]\n"
          ]
        }
      ],
      "source": [
        "# predict on a sample text without padding.\n",
        "\n",
        "sample_text = ('The movie was cool. The animation and the graphics '\n",
        "               'were out of this world. I would recommend this movie.')\n",
        "predictions = model.predict(np.array([sample_text]))\n",
        "print(predictions[0])"
      ]
    },
    {
      "cell_type": "markdown",
      "metadata": {
        "id": "K0VQmGnEWcuz"
      },
      "source": [
        "Now, evaluate it again in a batch with a longer sentence. The result should be identical:"
      ]
    },
    {
      "cell_type": "code",
      "execution_count": null,
      "metadata": {
        "id": "UIgpuTeFNDzq",
        "outputId": "0584d007-6ff5-4ada-bc72-c93dbfd4b365",
        "colab": {
          "base_uri": "https://localhost:8080/"
        }
      },
      "outputs": [
        {
          "output_type": "stream",
          "name": "stdout",
          "text": [
            "1/1 [==============================] - 0s 87ms/step\n",
            "[0.00657895]\n"
          ]
        }
      ],
      "source": [
        "# predict on a sample text with padding\n",
        "\n",
        "padding = \"the \" * 2000\n",
        "predictions = model.predict(np.array([sample_text, padding]))\n",
        "print(predictions[0])"
      ]
    },
    {
      "cell_type": "markdown",
      "metadata": {
        "id": "sRI776ZcH3Tf"
      },
      "source": [
        "Compile the Keras model to configure the training process:"
      ]
    },
    {
      "cell_type": "code",
      "execution_count": null,
      "metadata": {
        "id": "kj2xei41YZjC"
      },
      "outputs": [],
      "source": [
        "model.compile(loss=tf.keras.losses.BinaryCrossentropy(from_logits=True),\n",
        "              optimizer=tf.keras.optimizers.Adam(1e-4),\n",
        "              metrics=['accuracy'])"
      ]
    },
    {
      "cell_type": "markdown",
      "metadata": {
        "id": "zIwH3nto596k"
      },
      "source": [
        "## Train the model"
      ]
    },
    {
      "cell_type": "code",
      "execution_count": null,
      "metadata": {
        "id": "hw86wWS4YgR2",
        "outputId": "d5a8341c-c426-4bbc-f964-b3810c0a2364",
        "colab": {
          "base_uri": "https://localhost:8080/"
        }
      },
      "outputs": [
        {
          "output_type": "stream",
          "name": "stdout",
          "text": [
            "Epoch 1/10\n",
            "391/391 [==============================] - 51s 106ms/step - loss: 0.6331 - accuracy: 0.5815 - val_loss: 0.4796 - val_accuracy: 0.7797\n",
            "Epoch 2/10\n",
            "391/391 [==============================] - 25s 64ms/step - loss: 0.4140 - accuracy: 0.8134 - val_loss: 0.3785 - val_accuracy: 0.8464\n",
            "Epoch 3/10\n",
            "391/391 [==============================] - 25s 63ms/step - loss: 0.3500 - accuracy: 0.8496 - val_loss: 0.3517 - val_accuracy: 0.8573\n",
            "Epoch 4/10\n",
            "391/391 [==============================] - 24s 60ms/step - loss: 0.3261 - accuracy: 0.8611 - val_loss: 0.3330 - val_accuracy: 0.8578\n",
            "Epoch 5/10\n",
            "391/391 [==============================] - 24s 60ms/step - loss: 0.3128 - accuracy: 0.8669 - val_loss: 0.3252 - val_accuracy: 0.8500\n",
            "Epoch 6/10\n",
            "391/391 [==============================] - 24s 61ms/step - loss: 0.3073 - accuracy: 0.8690 - val_loss: 0.3221 - val_accuracy: 0.8641\n",
            "Epoch 7/10\n",
            "391/391 [==============================] - 24s 61ms/step - loss: 0.3033 - accuracy: 0.8718 - val_loss: 0.3249 - val_accuracy: 0.8505\n",
            "Epoch 8/10\n",
            "391/391 [==============================] - 25s 63ms/step - loss: 0.3010 - accuracy: 0.8716 - val_loss: 0.3180 - val_accuracy: 0.8635\n",
            "Epoch 9/10\n",
            "391/391 [==============================] - 25s 64ms/step - loss: 0.2987 - accuracy: 0.8735 - val_loss: 0.3286 - val_accuracy: 0.8651\n",
            "Epoch 10/10\n",
            "391/391 [==============================] - 25s 64ms/step - loss: 0.2956 - accuracy: 0.8740 - val_loss: 0.3210 - val_accuracy: 0.8641\n"
          ]
        }
      ],
      "source": [
        "history = model.fit(train_dataset, epochs=10,\n",
        "                    validation_data=test_dataset,\n",
        "                    validation_steps=30)"
      ]
    },
    {
      "cell_type": "code",
      "execution_count": null,
      "metadata": {
        "id": "BaNbXi43YgUT",
        "outputId": "a07ed922-f819-4478-93f6-11a814f00372",
        "colab": {
          "base_uri": "https://localhost:8080/"
        }
      },
      "outputs": [
        {
          "output_type": "stream",
          "name": "stdout",
          "text": [
            "391/391 [==============================] - 12s 30ms/step - loss: 0.3163 - accuracy: 0.8618\n",
            "Test Loss: 0.31632229685783386\n",
            "Test Accuracy: 0.8618000149726868\n"
          ]
        }
      ],
      "source": [
        "test_loss, test_acc = model.evaluate(test_dataset)\n",
        "\n",
        "print('Test Loss:', test_loss)\n",
        "print('Test Accuracy:', test_acc)"
      ]
    },
    {
      "cell_type": "code",
      "execution_count": null,
      "metadata": {
        "id": "OZmwt_mzaQJk",
        "outputId": "0162e3c3-badb-46c4-b4bf-8488950c681c",
        "colab": {
          "base_uri": "https://localhost:8080/",
          "height": 518
        }
      },
      "outputs": [
        {
          "output_type": "execute_result",
          "data": {
            "text/plain": [
              "(0.0, 0.6499960333108902)"
            ]
          },
          "metadata": {},
          "execution_count": 20
        },
        {
          "output_type": "display_data",
          "data": {
            "text/plain": [
              "<Figure size 1152x576 with 2 Axes>"
            ],
            "image/png": "[encoded data removed]"
          },
          "metadata": {
            "needs_background": "light"
          }
        }
      ],
      "source": [
        "plt.figure(figsize=(16, 8))\n",
        "plt.subplot(1, 2, 1)\n",
        "plot_graphs(history, 'accuracy')\n",
        "plt.ylim(None, 1)\n",
        "plt.subplot(1, 2, 2)\n",
        "plot_graphs(history, 'loss')\n",
        "plt.ylim(0, None)"
      ]
    },
    {
      "cell_type": "markdown",
      "metadata": {
        "id": "DwSE_386uhxD"
      },
      "source": [
        "Run a prediction on a new sentence:\n",
        "\n",
        "If the prediction is >= 0.0, it is positive else it is negative."
      ]
    },
    {
      "cell_type": "code",
      "execution_count": null,
      "metadata": {
        "id": "ZXgfQSgRW6zU",
        "outputId": "194232aa-264d-48bf-c22c-6787031f2736",
        "colab": {
          "base_uri": "https://localhost:8080/"
        }
      },
      "outputs": [
        {
          "output_type": "stream",
          "name": "stdout",
          "text": [
            "1/1 [==============================] - 2s 2s/step\n"
          ]
        }
      ],
      "source": [
        "sample_text = ('The movie was cool. The animation and the graphics '\n",
        "               'were out of this world. I would recommend this movie.')\n",
        "predictions = model.predict(np.array([sample_text]))"
      ]
    },
    {
      "cell_type": "markdown",
      "metadata": {
        "id": "7g1evcaRpTKm"
      },
      "source": [
        "## Stack two or more LSTM layers\n",
        "\n",
        "Keras recurrent layers have two available modes that are controlled by the `return_sequences` constructor argument:\n",
        "\n",
        "* If `False` it returns only the last output for each input sequence (a 2D tensor of shape (batch_size, output_features)). This is the default, used in the previous model.\n",
        "\n",
        "* If `True` the full sequences of successive outputs for each timestep is returned (a 3D tensor of shape `(batch_size, timesteps, output_features)`).\n",
        "\n",
        "Here is what the flow of information looks like with `return_sequences=True`:\n",
        "\n",
        "![layered_bidirectional](https://github.com/tensorflow/text/blob/master/docs/tutorials/images/layered_bidirectional.png?raw=1)"
      ]
    },
    {
      "cell_type": "markdown",
      "metadata": {
        "id": "wbSClCrG1z8l"
      },
      "source": [
        "The interesting thing about using an `RNN` with `return_sequences=True` is that the output still has 3-axes, like the input, so it can be passed to another RNN layer, like this:"
      ]
    },
    {
      "cell_type": "code",
      "execution_count": null,
      "metadata": {
        "id": "jo1jjO3vn0jo"
      },
      "outputs": [],
      "source": [
        "model = tf.keras.Sequential([\n",
        "    encoder,\n",
        "    tf.keras.layers.Embedding(len(encoder.get_vocabulary()), 64, mask_zero=True),\n",
        "    tf.keras.layers.Bidirectional(tf.keras.layers.LSTM(64,  return_sequences=True)),\n",
        "    tf.keras.layers.Bidirectional(tf.keras.layers.LSTM(32)),\n",
        "    tf.keras.layers.Dense(64, activation='relu'),\n",
        "    tf.keras.layers.Dropout(0.5),\n",
        "    tf.keras.layers.Dense(1)\n",
        "])"
      ]
    },
    {
      "cell_type": "code",
      "execution_count": null,
      "metadata": {
        "id": "hEPV5jVGp-is"
      },
      "outputs": [],
      "source": [
        "model.compile(loss=tf.keras.losses.BinaryCrossentropy(from_logits=True),\n",
        "              optimizer=tf.keras.optimizers.Adam(1e-4),\n",
        "              metrics=['accuracy'])"
      ]
    },
    {
      "cell_type": "code",
      "execution_count": null,
      "metadata": {
        "id": "LeSE-YjdqAeN",
        "outputId": "af93bffd-f186-4096-c69b-c296b6b08d2f",
        "colab": {
          "base_uri": "https://localhost:8080/"
        }
      },
      "outputs": [
        {
          "output_type": "stream",
          "name": "stdout",
          "text": [
            "Epoch 1/10\n",
            "391/391 [==============================] - 75s 150ms/step - loss: 0.6133 - accuracy: 0.6086 - val_loss: 0.4475 - val_accuracy: 0.7896\n",
            "Epoch 2/10\n",
            "391/391 [==============================] - 45s 115ms/step - loss: 0.3900 - accuracy: 0.8305 - val_loss: 0.3640 - val_accuracy: 0.8333\n",
            "Epoch 3/10\n",
            "391/391 [==============================] - 45s 115ms/step - loss: 0.3414 - accuracy: 0.8548 - val_loss: 0.3339 - val_accuracy: 0.8594\n",
            "Epoch 4/10\n",
            "391/391 [==============================] - 46s 117ms/step - loss: 0.3229 - accuracy: 0.8632 - val_loss: 0.3335 - val_accuracy: 0.8594\n",
            "Epoch 5/10\n",
            "391/391 [==============================] - 46s 118ms/step - loss: 0.3146 - accuracy: 0.8674 - val_loss: 0.3215 - val_accuracy: 0.8562\n",
            "Epoch 6/10\n",
            "391/391 [==============================] - 46s 118ms/step - loss: 0.3095 - accuracy: 0.8680 - val_loss: 0.3211 - val_accuracy: 0.8547\n",
            "Epoch 7/10\n",
            "391/391 [==============================] - 44s 113ms/step - loss: 0.3064 - accuracy: 0.8702 - val_loss: 0.3172 - val_accuracy: 0.8568\n",
            "Epoch 8/10\n",
            "391/391 [==============================] - 44s 113ms/step - loss: 0.3010 - accuracy: 0.8707 - val_loss: 0.3305 - val_accuracy: 0.8635\n",
            "Epoch 9/10\n",
            "391/391 [==============================] - 44s 112ms/step - loss: 0.2981 - accuracy: 0.8717 - val_loss: 0.3233 - val_accuracy: 0.8573\n",
            "Epoch 10/10\n",
            "391/391 [==============================] - 45s 115ms/step - loss: 0.2987 - accuracy: 0.8722 - val_loss: 0.3164 - val_accuracy: 0.8542\n"
          ]
        }
      ],
      "source": [
        "history = model.fit(train_dataset, epochs=10,\n",
        "                    validation_data=test_dataset,\n",
        "                    validation_steps=30)"
      ]
    },
    {
      "cell_type": "code",
      "execution_count": null,
      "metadata": {
        "id": "_LdwilM1qPM3",
        "outputId": "d2773317-f8f8-4eee-fbc0-bca36772b3f1",
        "colab": {
          "base_uri": "https://localhost:8080/"
        }
      },
      "outputs": [
        {
          "output_type": "stream",
          "name": "stdout",
          "text": [
            "391/391 [==============================] - 19s 48ms/step - loss: 0.3153 - accuracy: 0.8582\n",
            "Test Loss: 0.31530874967575073\n",
            "Test Accuracy: 0.858240008354187\n"
          ]
        }
      ],
      "source": [
        "test_loss, test_acc = model.evaluate(test_dataset)\n",
        "\n",
        "print('Test Loss:', test_loss)\n",
        "print('Test Accuracy:', test_acc)"
      ]
    },
    {
      "cell_type": "code",
      "execution_count": null,
      "metadata": {
        "id": "ykUKnAoqbycW",
        "outputId": "63adf8a6-e0d2-4ee7-8484-0694bea2cd1d",
        "colab": {
          "base_uri": "https://localhost:8080/"
        }
      },
      "outputs": [
        {
          "output_type": "stream",
          "name": "stdout",
          "text": [
            "1/1 [==============================] - 4s 4s/step\n",
            "[[-1.594405]]\n"
          ]
        }
      ],
      "source": [
        "# predict on a sample text without padding.\n",
        "\n",
        "sample_text = ('The movie was not good. The animation and the graphics '\n",
        "               'were terrible. I would not recommend this movie.')\n",
        "predictions = model.predict(np.array([sample_text]))\n",
        "print(predictions)"
      ]
    },
    {
      "cell_type": "code",
      "execution_count": null,
      "metadata": {
        "id": "_YYub0EDtwCu",
        "outputId": "16bfaf37-516c-4e84-daf9-075b9af9d2c5",
        "colab": {
          "base_uri": "https://localhost:8080/",
          "height": 388
        }
      },
      "outputs": [
        {
          "output_type": "display_data",
          "data": {
            "text/plain": [
              "<Figure size 1152x432 with 2 Axes>"
            ],
            "image/png": "[encoded data removed]"
          },
          "metadata": {
            "needs_background": "light"
          }
        }
      ],
      "source": [
        "plt.figure(figsize=(16, 6))\n",
        "plt.subplot(1, 2, 1)\n",
        "plot_graphs(history, 'accuracy')\n",
        "plt.subplot(1, 2, 2)\n",
        "plot_graphs(history, 'loss')"
      ]
    },
    {
      "cell_type": "markdown",
      "metadata": {
        "id": "9xvpE3BaGw_V"
      },
      "source": [
        "Check out other existing recurrent layers such as [GRU layers](https://www.tensorflow.org/api_docs/python/tf/keras/layers/GRU).\n",
        "\n",
        "If you're interested in building custom RNNs, see the [Keras RNN Guide](https://www.tensorflow.org/guide/keras/rnn).\n"
      ]
    }
  ],
  "metadata": {
    "accelerator": "GPU",
    "colab": {
      "provenance": []
    },
    "kernelspec": {
      "display_name": "Python 3",
      "name": "python3"
    }
  },
  "nbformat": 4,
  "nbformat_minor": 0
}