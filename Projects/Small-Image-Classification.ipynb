{
  "cells": [
    {
      "cell_type": "markdown",
      "metadata": {
        "id": "RrMbZhALNXxc"
      },
      "source": [
        "## Small Image Classification Using Convolutional Neural Network (CNN)"
      ]
    },
    {
      "cell_type": "markdown",
      "metadata": {
        "id": "cRd8jzVKNXxf"
      },
      "source": [
        "#### In this notebook, we will classify small images cifar10 dataset from tensorflow keras datasets. There are total 10 classes as shown below. We will use CNN for classification"
      ]
    },
    {
      "cell_type": "markdown",
      "metadata": {
        "id": "RMpntt2aNXxf"
      },
      "source": [
        "<img src=\"images/small_images.jpg\" style=\"width:850px;height:600px;\">"
      ]
    },
    {
      "cell_type": "code",
      "execution_count": null,
      "metadata": {
        "id": "DMGn5ZVaNXxg"
      },
      "outputs": [],
      "source": [
        "import tensorflow as tf\n",
        "from tensorflow.keras import datasets, layers, models\n",
        "import matplotlib.pyplot as plt\n",
        "import numpy as np"
      ]
    },
    {
      "cell_type": "markdown",
      "metadata": {
        "id": "CHQWHw5-NXxh"
      },
      "source": [
        "### Load the dataset"
      ]
    },
    {
      "cell_type": "code",
      "execution_count": null,
      "metadata": {
        "id": "1GU8aVN8NXxh",
        "outputId": "3ad0e057-0079-457c-8424-e2777bb7a2e2"
      },
      "outputs": [
        {
          "data": {
            "text/plain": [
              "(50000, 32, 32, 3)"
            ]
          },
          "execution_count": 2,
          "metadata": {},
          "output_type": "execute_result"
        }
      ],
      "source": [
        "(X_train, y_train), (X_test,y_test) = datasets.cifar10.load_data()\n",
        "X_train.shape"
      ]
    },
    {
      "cell_type": "code",
      "execution_count": null,
      "metadata": {
        "id": "eWFyhMboNXxi",
        "outputId": "4e01d417-7578-470e-87ad-d10995ed2ee6"
      },
      "outputs": [
        {
          "data": {
            "text/plain": [
              "(10000, 32, 32, 3)"
            ]
          },
          "execution_count": 3,
          "metadata": {},
          "output_type": "execute_result"
        }
      ],
      "source": [
        "X_test.shape"
      ]
    },
    {
      "cell_type": "markdown",
      "metadata": {
        "id": "hPNKa1e1NXxi"
      },
      "source": [
        "##### Here we see there are 50000 training images and 1000 test images"
      ]
    },
    {
      "cell_type": "code",
      "execution_count": null,
      "metadata": {
        "id": "7zH-QsKHNXxj",
        "outputId": "3d5878ca-7d5c-422b-8491-443068290d80"
      },
      "outputs": [
        {
          "data": {
            "text/plain": [
              "(50000, 1)"
            ]
          },
          "execution_count": 4,
          "metadata": {},
          "output_type": "execute_result"
        }
      ],
      "source": [
        "y_train.shape"
      ]
    },
    {
      "cell_type": "code",
      "execution_count": null,
      "metadata": {
        "id": "LD1gUlZbNXxj",
        "outputId": "bf117139-766b-45f2-c97d-e062ac1699f3"
      },
      "outputs": [
        {
          "data": {
            "text/plain": [
              "array([[6],\n",
              "       [9],\n",
              "       [9],\n",
              "       [4],\n",
              "       [1],\n",
              "       [1],\n",
              "       [2],\n",
              "       [7],\n",
              "       [8],\n",
              "       [3],\n",
              "       [4],\n",
              "       [7],\n",
              "       [7],\n",
              "       [2],\n",
              "       [9],\n",
              "       [9],\n",
              "       [9],\n",
              "       [3],\n",
              "       [2],\n",
              "       [6],\n",
              "       [4],\n",
              "       [3],\n",
              "       [6],\n",
              "       [6],\n",
              "       [2],\n",
              "       [6],\n",
              "       [3],\n",
              "       [5],\n",
              "       [4],\n",
              "       [0],\n",
              "       [0],\n",
              "       [9],\n",
              "       [1],\n",
              "       [3],\n",
              "       [4],\n",
              "       [0],\n",
              "       [3],\n",
              "       [7],\n",
              "       [3],\n",
              "       [3],\n",
              "       [5],\n",
              "       [2],\n",
              "       [2],\n",
              "       [7],\n",
              "       [1],\n",
              "       [1],\n",
              "       [1],\n",
              "       [2],\n",
              "       [2],\n",
              "       [0]], dtype=uint8)"
            ]
          },
          "execution_count": 6,
          "metadata": {},
          "output_type": "execute_result"
        }
      ],
      "source": [
        "y_train[:50]"
      ]
    },
    {
      "cell_type": "markdown",
      "metadata": {
        "id": "r-5QDFFlNXxj"
      },
      "source": [
        "##### y_train is a 2D array, for our classification having 1D array is good enough. so we will convert this to now 1D array"
      ]
    },
    {
      "cell_type": "code",
      "execution_count": null,
      "metadata": {
        "id": "Vb3XRXVZNXxj",
        "outputId": "90eeb1dd-bde1-4122-a635-d0c7c9840f2f"
      },
      "outputs": [
        {
          "data": {
            "text/plain": [
              "array([6, 9, 9, 4, 1], dtype=uint8)"
            ]
          },
          "execution_count": 10,
          "metadata": {},
          "output_type": "execute_result"
        }
      ],
      "source": [
        "y_train = y_train.reshape(-1,)\n",
        "y_train[:5]"
      ]
    },
    {
      "cell_type": "code",
      "execution_count": null,
      "metadata": {
        "id": "GzosSlmYNXxk"
      },
      "outputs": [],
      "source": [
        "y_test = y_test.reshape(-1,)"
      ]
    },
    {
      "cell_type": "code",
      "execution_count": null,
      "metadata": {
        "id": "n3UCMNOpNXxk"
      },
      "outputs": [],
      "source": [
        "classes = [\"airplane\",\"automobile\",\"bird\",\"cat\",\"deer\",\"dog\",\"frog\",\"horse\",\"ship\",\"truck\"]"
      ]
    },
    {
      "cell_type": "markdown",
      "metadata": {
        "id": "rs28sgJmNXxl"
      },
      "source": [
        "### Let's plot some images to see what they are"
      ]
    },
    {
      "cell_type": "code",
      "execution_count": null,
      "metadata": {
        "id": "xfae7xHdNXxl"
      },
      "outputs": [],
      "source": [
        "def plot_sample(X, y, index):\n",
        "    plt.figure(figsize = (15,2))\n",
        "    plt.imshow(X[index])\n",
        "    plt.xlabel(classes[y[index]])"
      ]
    },
    {
      "cell_type": "code",
      "execution_count": null,
      "metadata": {
        "id": "n4VdqRH6NXxm",
        "outputId": "c15a371b-8136-448c-995e-f00028f82f6f"
      },
      "outputs": [
        {
          "data": {
            "image/png": "[encoded data removed]",
            "text/plain": [
              "<Figure size 1080x144 with 1 Axes>"
            ]
          },
          "metadata": {
            "needs_background": "light"
          },
          "output_type": "display_data"
        }
      ],
      "source": [
        "plot_sample(X_train, y_train, 3)"
      ]
    },
    {
      "cell_type": "code",
      "execution_count": null,
      "metadata": {
        "id": "FagY3a0cNXxm",
        "outputId": "4617b78d-715a-4383-c501-ae77e44ba633"
      },
      "outputs": [
        {
          "data": {
            "image/png": "[encoded data removed]",
            "text/plain": [
              "<Figure size 1080x144 with 1 Axes>"
            ]
          },
          "metadata": {
            "needs_background": "light"
          },
          "output_type": "display_data"
        }
      ],
      "source": [
        "plot_sample(X_train, y_train, 1)"
      ]
    },
    {
      "cell_type": "markdown",
      "metadata": {
        "id": "gHZC3oeTNXxm"
      },
      "source": [
        "Normalize the images to a number from 0 to 1. Image has 3 channels (R,G,B) and each value in the channel can range from 0 to 255. Hence to normalize in 0-->1 range, we need to divide it by 255\n",
        "\n",
        "### Normalizing the training data"
      ]
    },
    {
      "cell_type": "code",
      "execution_count": null,
      "metadata": {
        "id": "479y2LJ4NXxm"
      },
      "outputs": [],
      "source": [
        "X_train = X_train / 255.0\n",
        "X_test = X_test / 255.0"
      ]
    },
    {
      "cell_type": "markdown",
      "metadata": {
        "id": "0HDK6WP-NXxm"
      },
      "source": [
        "### Build simple artificial neural network for image classification"
      ]
    },
    {
      "cell_type": "code",
      "execution_count": null,
      "metadata": {
        "id": "ke1MIZZ_NXxn",
        "outputId": "3d35df3c-fbaf-4690-fc32-4a311b564805"
      },
      "outputs": [
        {
          "name": "stdout",
          "output_type": "stream",
          "text": [
            "WARNING:tensorflow:From C:\\ProgramData\\Anaconda3\\lib\\site-packages\\tensorflow\\python\\ops\\init_ops.py:1251: calling VarianceScaling.__init__ (from tensorflow.python.ops.init_ops) with dtype is deprecated and will be removed in a future version.\n",
            "Instructions for updating:\n",
            "Call initializer instance with the dtype argument instead of passing it to the constructor\n",
            "WARNING:tensorflow:From C:\\ProgramData\\Anaconda3\\lib\\site-packages\\tensorflow\\python\\ops\\math_grad.py:1250: add_dispatch_support.<locals>.wrapper (from tensorflow.python.ops.array_ops) is deprecated and will be removed in a future version.\n",
            "Instructions for updating:\n",
            "Use tf.where in 2.0, which has the same broadcast rule as np.where\n",
            "Epoch 1/5\n",
            "50000/50000 [==============================] - 118s 2ms/sample - loss: 14.4447 - acc: 0.0995\n",
            "Epoch 2/5\n",
            "50000/50000 [==============================] - 111s 2ms/sample - loss: 14.5063 - acc: 0.1000\n",
            "Epoch 3/5\n",
            "50000/50000 [==============================] - 120s 2ms/sample - loss: 14.5063 - acc: 0.1000\n",
            "Epoch 4/5\n",
            "50000/50000 [==============================] - 122s 2ms/sample - loss: 14.5063 - acc: 0.1000\n",
            "Epoch 5/5\n",
            "50000/50000 [==============================] - 124s 2ms/sample - loss: 14.5063 - acc: 0.1000\n"
          ]
        },
        {
          "data": {
            "text/plain": [
              "<tensorflow.python.keras.callbacks.History at 0x2017b725198>"
            ]
          },
          "execution_count": 16,
          "metadata": {},
          "output_type": "execute_result"
        }
      ],
      "source": [
        "ann = models.Sequential([\n",
        "        layers.Flatten(input_shape=(32,32,3)),\n",
        "        layers.Dense(3000, activation='relu'),\n",
        "        layers.Dense(1000, activation='relu'),\n",
        "        layers.Dense(10, activation='sigmoid')    \n",
        "    ])\n",
        "\n",
        "ann.compile(optimizer='SGD',\n",
        "              loss='sparse_categorical_crossentropy',\n",
        "              metrics=['accuracy'])\n",
        "\n",
        "ann.fit(X_train, y_train, epochs=5)"
      ]
    },
    {
      "cell_type": "markdown",
      "metadata": {
        "id": "L83Zr0dUNXxn"
      },
      "source": [
        "### You can see that at the end of 5 epochs, accuracy is at around 48.48%"
      ]
    },
    {
      "cell_type": "code",
      "execution_count": null,
      "metadata": {
        "id": "SXFXtKGRNXxn",
        "outputId": "973735e4-1eec-403f-f47a-70864f7d4bb6"
      },
      "outputs": [
        {
          "name": "stdout",
          "output_type": "stream",
          "text": [
            "Classification Report: \n",
            "               precision    recall  f1-score   support\n",
            "\n",
            "           0       0.62      0.48      0.54      1000\n",
            "           1       0.65      0.47      0.55      1000\n",
            "           2       0.29      0.51      0.37      1000\n",
            "           3       0.33      0.39      0.36      1000\n",
            "           4       0.53      0.18      0.27      1000\n",
            "           5       0.43      0.35      0.38      1000\n",
            "           6       0.49      0.57      0.53      1000\n",
            "           7       0.78      0.29      0.42      1000\n",
            "           8       0.62      0.62      0.62      1000\n",
            "           9       0.41      0.75      0.53      1000\n",
            "\n",
            "   micro avg       0.46      0.46      0.46     10000\n",
            "   macro avg       0.51      0.46      0.46     10000\n",
            "weighted avg       0.51      0.46      0.46     10000\n",
            "\n"
          ]
        }
      ],
      "source": [
        "from sklearn.metrics import confusion_matrix , classification_report\n",
        "import numpy as np\n",
        "y_pred = ann.predict(X_test)\n",
        "y_pred_classes = [np.argmax(element) for element in y_pred]\n",
        "\n",
        "print(\"Classification Report: \\n\", classification_report(y_test, y_pred_classes))"
      ]
    },
    {
      "cell_type": "markdown",
      "metadata": {
        "id": "AMgXmItvNXxn"
      },
      "source": [
        "### Now let us build a convolutional neural network to train our images"
      ]
    },
    {
      "cell_type": "code",
      "execution_count": null,
      "metadata": {
        "id": "zV3EMKLgNXxo",
        "outputId": "39962dd6-cde2-4e8d-a882-3eec1678cca7"
      },
      "outputs": [
        {
          "name": "stdout",
          "output_type": "stream",
          "text": [
            "Model: \"sequential\"\n",
            "_________________________________________________________________\n",
            "Layer (type)                 Output Shape              Param #   \n",
            "=================================================================\n",
            "flatten (Flatten)            (None, 3072)              0         \n",
            "_________________________________________________________________\n",
            "dense (Dense)                (None, 3000)              9219000   \n",
            "_________________________________________________________________\n",
            "dense_1 (Dense)              (None, 1000)              3001000   \n",
            "_________________________________________________________________\n",
            "dense_2 (Dense)              (None, 10)                10010     \n",
            "=================================================================\n",
            "Total params: 12,230,010\n",
            "Trainable params: 12,230,010\n",
            "Non-trainable params: 0\n",
            "_________________________________________________________________\n"
          ]
        }
      ],
      "source": [
        "ann.summary()"
      ]
    },
    {
      "cell_type": "code",
      "execution_count": null,
      "metadata": {
        "id": "nxfwehW4NXxo"
      },
      "outputs": [],
      "source": [
        "cnn = models.Sequential([\n",
        "    layers.Conv2D(filters=32, kernel_size=(3, 3), activation='relu', input_shape=(32, 32, 3)),\n",
        "    layers.MaxPooling2D((2, 2)),\n",
        "    \n",
        "    layers.Conv2D(filters=64, kernel_size=(3, 3), activation='relu'),\n",
        "    layers.MaxPooling2D((2, 2)),\n",
        "    \n",
        "    layers.Flatten(),\n",
        "    layers.Dense(64, activation='relu'),\n",
        "    layers.Dense(10, activation='softmax')\n",
        "])"
      ]
    },
    {
      "cell_type": "code",
      "execution_count": null,
      "metadata": {
        "id": "o7zNCCbpNXxo"
      },
      "outputs": [],
      "source": [
        "cnn.compile(optimizer='adam',\n",
        "              loss='sparse_categorical_crossentropy',\n",
        "              metrics=['accuracy'])"
      ]
    },
    {
      "cell_type": "code",
      "execution_count": null,
      "metadata": {
        "id": "blweBGYoNXxo",
        "outputId": "1e1757dc-cc2a-4b3e-eb6c-eb0f368c5c9c"
      },
      "outputs": [
        {
          "name": "stdout",
          "output_type": "stream",
          "text": [
            "Epoch 1/10\n",
            "50000/50000 [==============================] - 390s 8ms/sample - loss: 1.4755 - acc: 0.4717\n",
            "Epoch 2/10\n",
            "50000/50000 [==============================] - 49s 979us/sample - loss: 1.1335 - acc: 0.6046\n",
            "Epoch 3/10\n",
            "50000/50000 [==============================] - 40s 798us/sample - loss: 1.0038 - acc: 0.6499\n",
            "Epoch 4/10\n",
            "50000/50000 [==============================] - 38s 766us/sample - loss: 0.9169 - acc: 0.6837\n",
            "Epoch 5/10\n",
            "50000/50000 [==============================] - 41s 827us/sample - loss: 0.8560 - acc: 0.7019\n",
            "Epoch 6/10\n",
            "50000/50000 [==============================] - 40s 800us/sample - loss: 0.8022 - acc: 0.7238\n",
            "Epoch 7/10\n",
            "50000/50000 [==============================] - 38s 769us/sample - loss: 0.7583 - acc: 0.7361\n",
            "Epoch 8/10\n",
            "50000/50000 [==============================] - 39s 782us/sample - loss: 0.7183 - acc: 0.7524\n",
            "Epoch 9/10\n",
            "50000/50000 [==============================] - 38s 765us/sample - loss: 0.6838 - acc: 0.7626\n",
            "Epoch 10/10\n",
            "50000/50000 [==============================] - 38s 770us/sample - loss: 0.6493 - acc: 0.7737\n"
          ]
        },
        {
          "data": {
            "text/plain": [
              "<tensorflow.python.keras.callbacks.History at 0x1cac05cd588>"
            ]
          },
          "execution_count": 21,
          "metadata": {},
          "output_type": "execute_result"
        }
      ],
      "source": [
        "cnn.fit(X_train, y_train, epochs=10)"
      ]
    },
    {
      "cell_type": "markdown",
      "metadata": {
        "id": "4bc6ccI1NXxo"
      },
      "source": [
        "### With CNN, at the end 5 epochs, accuracy was at around 70.28% which is a significant improvement over ANN. CNN's are best for image classification and gives superb accuracy. Also computation is much less compared to simple ANN as maxpooling reduces the image dimensions while still preserving the features"
      ]
    },
    {
      "cell_type": "code",
      "execution_count": null,
      "metadata": {
        "id": "vNbKoiO4NXxp",
        "outputId": "af096f82-f3a8-4c91-f44a-dbc742ea8b54"
      },
      "outputs": [
        {
          "name": "stdout",
          "output_type": "stream",
          "text": [
            "10000/10000 [==============================] - 77s 8ms/sample - loss: 0.9098 - acc: 0.7080\n"
          ]
        },
        {
          "data": {
            "text/plain": [
              "[0.9097772479057312, 0.708]"
            ]
          },
          "execution_count": 22,
          "metadata": {},
          "output_type": "execute_result"
        }
      ],
      "source": [
        "cnn.evaluate(X_test,y_test)"
      ]
    },
    {
      "cell_type": "code",
      "execution_count": null,
      "metadata": {
        "id": "JNBvXR4BNXxp",
        "outputId": "6ed3ac6a-2ad3-4295-f2b5-8f795d187e4c"
      },
      "outputs": [
        {
          "data": {
            "text/plain": [
              "array([[3.0434032e-03, 4.4233220e-05, 1.8602049e-02, 7.8327805e-01,\n",
              "        5.3409211e-05, 7.9009980e-02, 2.6042411e-02, 1.9270490e-05,\n",
              "        8.9600846e-02, 3.0630006e-04],\n",
              "       [1.3454035e-02, 3.4986632e-03, 3.3792531e-07, 2.9303120e-09,\n",
              "        2.0733665e-08, 4.1919476e-10, 9.0019824e-08, 6.7794143e-12,\n",
              "        9.8298246e-01, 6.4430336e-05],\n",
              "       [1.4404580e-01, 4.8980635e-01, 1.0621994e-03, 1.0393569e-03,\n",
              "        2.0688858e-03, 1.9061839e-04, 7.7135279e-05, 7.3260767e-04,\n",
              "        3.4211707e-01, 1.8859936e-02],\n",
              "       [3.8572037e-01, 3.4309280e-01, 1.6177333e-03, 3.1819046e-04,\n",
              "        1.6308100e-04, 2.2536577e-05, 2.7912273e-04, 6.7523833e-06,\n",
              "        2.6811618e-01, 6.6318957e-04],\n",
              "       [3.1540710e-06, 1.4008451e-05, 9.7282268e-03, 4.5891227e-03,\n",
              "        6.5725744e-01, 2.2051749e-03, 3.2617784e-01, 1.0082598e-05,\n",
              "        1.4661702e-05, 3.1767010e-07]], dtype=float32)"
            ]
          },
          "execution_count": 23,
          "metadata": {},
          "output_type": "execute_result"
        }
      ],
      "source": [
        "y_pred = cnn.predict(X_test)\n",
        "y_pred[:5]"
      ]
    },
    {
      "cell_type": "code",
      "execution_count": null,
      "metadata": {
        "id": "f_ptdcC9NXxp",
        "outputId": "e541937e-33ee-4c87-e11d-7ad932bd49b5"
      },
      "outputs": [
        {
          "data": {
            "text/plain": [
              "[3, 8, 1, 0, 4]"
            ]
          },
          "execution_count": 24,
          "metadata": {},
          "output_type": "execute_result"
        }
      ],
      "source": [
        "y_classes = [np.argmax(element) for element in y_pred]\n",
        "y_classes[:5]"
      ]
    },
    {
      "cell_type": "code",
      "execution_count": null,
      "metadata": {
        "id": "nPjSCVe0NXxp",
        "outputId": "20a1eb78-320d-4977-e5b0-356b6317b492"
      },
      "outputs": [
        {
          "data": {
            "text/plain": [
              "array([3, 8, 8, 0, 6])"
            ]
          },
          "execution_count": 25,
          "metadata": {},
          "output_type": "execute_result"
        }
      ],
      "source": [
        "y_test[:5]"
      ]
    },
    {
      "cell_type": "code",
      "execution_count": null,
      "metadata": {
        "id": "fGlVYibvNXxp",
        "outputId": "dd99109c-e326-4ff7-ca1f-7c8586c51af8"
      },
      "outputs": [
        {
          "data": {
            "image/png": "[encoded data removed]",
            "text/plain": [
              "<Figure size 1080x144 with 1 Axes>"
            ]
          },
          "metadata": {
            "needs_background": "light"
          },
          "output_type": "display_data"
        }
      ],
      "source": [
        "plot_sample(X_test, y_test,3)"
      ]
    },
    {
      "cell_type": "code",
      "execution_count": null,
      "metadata": {
        "id": "FijiV-IPNXxp",
        "outputId": "b1e0b454-4f1d-4066-ebd8-e10d6482f76a"
      },
      "outputs": [
        {
          "data": {
            "text/plain": [
              "'airplane'"
            ]
          },
          "execution_count": 27,
          "metadata": {},
          "output_type": "execute_result"
        }
      ],
      "source": [
        "classes[y_classes[3]]"
      ]
    },
    {
      "cell_type": "code",
      "execution_count": null,
      "metadata": {
        "id": "Kx0OaZaBNXxp",
        "outputId": "8642aa65-4d40-4e02-edc5-8c76af15240f"
      },
      "outputs": [
        {
          "name": "stdout",
          "output_type": "stream",
          "text": [
            "Model: \"sequential_1\"\n",
            "_________________________________________________________________\n",
            "Layer (type)                 Output Shape              Param #   \n",
            "=================================================================\n",
            "conv2d (Conv2D)              (None, 30, 30, 32)        896       \n",
            "_________________________________________________________________\n",
            "max_pooling2d (MaxPooling2D) (None, 15, 15, 32)        0         \n",
            "_________________________________________________________________\n",
            "conv2d_1 (Conv2D)            (None, 13, 13, 64)        18496     \n",
            "_________________________________________________________________\n",
            "max_pooling2d_1 (MaxPooling2 (None, 6, 6, 64)          0         \n",
            "_________________________________________________________________\n",
            "flatten_1 (Flatten)          (None, 2304)              0         \n",
            "_________________________________________________________________\n",
            "dense_3 (Dense)              (None, 64)                147520    \n",
            "_________________________________________________________________\n",
            "dense_4 (Dense)              (None, 10)                650       \n",
            "=================================================================\n",
            "Total params: 167,562\n",
            "Trainable params: 167,562\n",
            "Non-trainable params: 0\n",
            "_________________________________________________________________\n"
          ]
        }
      ],
      "source": [
        "cnn.summary()"
      ]
    },
    {
      "cell_type": "markdown",
      "metadata": {
        "id": "uUElrgf9NXxq"
      },
      "source": [
        "# CNN MODEL"
      ]
    },
    {
      "cell_type": "markdown",
      "metadata": {
        "id": "Fm27iwQqNXxq"
      },
      "source": [
        "<img src=\"images/CNN.jpg\" style=\"width:1200px;height:300px;\">"
      ]
    },
    {
      "cell_type": "markdown",
      "metadata": {
        "id": "zfiY4n1DNXxq"
      },
      "source": [
        "### The formula for calculating a dimension of the output of conv layer is\n",
        "## ((n+2p-f)/s)+1"
      ]
    },
    {
      "cell_type": "markdown",
      "metadata": {
        "id": "pui-MikUNXxq"
      },
      "source": []
    },
    {
      "cell_type": "code",
      "execution_count": null,
      "metadata": {
        "id": "dhTwynapNXxq"
      },
      "outputs": [],
      "source": []
    }
  ],
  "metadata": {
    "kernelspec": {
      "display_name": "Python 3",
      "language": "python",
      "name": "python3"
    },
    "language_info": {
      "codemirror_mode": {
        "name": "ipython",
        "version": 3
      },
      "file_extension": ".py",
      "mimetype": "text/x-python",
      "name": "python",
      "nbconvert_exporter": "python",
      "pygments_lexer": "ipython3",
      "version": "3.7.3"
    },
    "colab": {
      "provenance": []
    }
  },
  "nbformat": 4,
  "nbformat_minor": 0
}