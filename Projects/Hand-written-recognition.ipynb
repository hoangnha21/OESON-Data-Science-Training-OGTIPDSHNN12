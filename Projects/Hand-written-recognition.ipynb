{
  "nbformat": 4,
  "nbformat_minor": 0,
  "metadata": {
    "colab": {
      "provenance": []
    },
    "kernelspec": {
      "name": "python3",
      "display_name": "Python 3"
    }
  },
  "cells": [
    {
      "cell_type": "markdown",
      "metadata": {
        "id": "H3admfzhSeBq"
      },
      "source": [
        "# HandWritten Digit Recognition Using MNIST Datset using Python Sklearn library"
      ]
    },
    {
      "cell_type": "code",
      "metadata": {
        "id": "gfD8Pw1K_dw_"
      },
      "source": [
        "from sklearn.datasets import fetch_openml\n",
        "\n",
        "#avoid any kind of warnings\n",
        "import warnings\n",
        "warnings.filterwarnings(\"ignore\")"
      ],
      "execution_count": null,
      "outputs": []
    },
    {
      "cell_type": "code",
      "metadata": {
        "id": "XG87GMYi_3K_"
      },
      "source": [
        "# load the dataset\n",
        "mnist = fetch_openml('mnist_784')"
      ],
      "execution_count": null,
      "outputs": []
    },
    {
      "cell_type": "code",
      "metadata": {
        "colab": {
          "base_uri": "https://localhost:8080/"
        },
        "id": "Jlx4aOBHPhMX",
        "outputId": "31693b07-dd6d-4382-ec31-5a59eb2382e4"
      },
      "source": [
        "# These are the images\n",
        "# There are 70,000 images (28 by 28 images for a dimensionality of 784)\n",
        "print(mnist.data.shape)\n",
        "\n",
        "print(mnist.target.shape)"
      ],
      "execution_count": null,
      "outputs": [
        {
          "output_type": "stream",
          "name": "stdout",
          "text": [
            "(70000, 784)\n",
            "(70000,)\n"
          ]
        }
      ]
    },
    {
      "cell_type": "code",
      "metadata": {
        "id": "9Prllo-GP9Jk"
      },
      "source": [
        "# separate the dataset in two parts as features and target\n",
        "x, y = mnist['data'], mnist['target']"
      ],
      "execution_count": null,
      "outputs": []
    },
    {
      "cell_type": "markdown",
      "metadata": {
        "id": "WQoHKj5TQWw2"
      },
      "source": [
        "* If you see the x, it's a one dimensional data\n",
        "* to see the feature as image we have to reshape it into 28*28\n",
        "* so, to plot it we will use matplotlib \n",
        "* we need to reshape it into 28*28 because it is a 1-D array and rows are stacked in form of digit."
      ]
    },
    {
      "cell_type": "code",
      "metadata": {
        "id": "eVfQK0VqQO8y"
      },
      "source": [
        "import matplotlib\n",
        "import matplotlib.pyplot as plt"
      ],
      "execution_count": null,
      "outputs": []
    },
    {
      "cell_type": "code",
      "metadata": {
        "id": "3l9BmxQnQTF-"
      },
      "source": [
        "# I will show the example of any 1 label by plotting it, let's check\n",
        "some_digit = x.iloc[[161]]\n",
        "some_digit_image = some_digit.values.reshape(28,28)"
      ],
      "execution_count": null,
      "outputs": []
    },
    {
      "cell_type": "code",
      "metadata": {
        "colab": {
          "base_uri": "https://localhost:8080/",
          "height": 265
        },
        "id": "eyIbM5feRSvx",
        "outputId": "237faffa-faf1-4e8c-c8db-7179044ba1ba"
      },
      "source": [
        "#plot an image\n",
        "plt.imshow(some_digit_image, cmap=matplotlib.cm.binary, interpolation=\"nearest\")\n",
        "plt.axis(\"off\")"
      ],
      "execution_count": null,
      "outputs": [
        {
          "output_type": "execute_result",
          "data": {
            "text/plain": [
              "(-0.5, 27.5, 27.5, -0.5)"
            ]
          },
          "metadata": {},
          "execution_count": 11
        },
        {
          "output_type": "display_data",
          "data": {
            "text/plain": [
              "<Figure size 432x288 with 1 Axes>"
            ],
            "image/png": "[encoded data removed]"
          },
          "metadata": {
            "needs_background": "light"
          }
        }
      ]
    },
    {
      "cell_type": "markdown",
      "metadata": {
        "id": "jX2gTEzfRlB0"
      },
      "source": [
        "**You can try with different images by using different labels**"
      ]
    },
    {
      "cell_type": "code",
      "metadata": {
        "colab": {
          "base_uri": "https://localhost:8080/",
          "height": 36
        },
        "id": "hmq91fIkRiZZ",
        "outputId": "59bfb0aa-8700-4db8-bfd4-9c2cbb3bb396"
      },
      "source": [
        "# le's see it's label\n",
        "y[161]    #YEAHH!.. it's a 2 only"
      ],
      "execution_count": null,
      "outputs": [
        {
          "output_type": "execute_result",
          "data": {
            "text/plain": [
              "'2'"
            ],
            "application/vnd.google.colaboratory.intrinsic+json": {
              "type": "string"
            }
          },
          "metadata": {},
          "execution_count": 12
        }
      ]
    },
    {
      "cell_type": "markdown",
      "metadata": {
        "id": "3osuf0bBR8Lw"
      },
      "source": [
        "## Splitting Dataset into Training and Test set(MNIST)\n",
        "\n",
        "**The mnist dataset is pre splitted by someone that the first 60000 images are in trained set and last 10000 are a test set. so we will move with this only**"
      ]
    },
    {
      "cell_type": "code",
      "metadata": {
        "id": "cHQjU3A7Rz0a"
      },
      "source": [
        "x_train, x_test = x[:60000], x[60000:]\n",
        "y_train, y_test = y[:60000], y[60000:]"
      ],
      "execution_count": null,
      "outputs": []
    },
    {
      "cell_type": "markdown",
      "metadata": {
        "id": "5h68Wgx7TDOI"
      },
      "source": [
        "- you can split the dataset using train-test split using test ratio as 1/7.0 and set the random_state and it will be splitted randomly 60000 train and 10000 test data size."
      ]
    },
    {
      "cell_type": "code",
      "metadata": {
        "id": "7OIa4yPATCBu"
      },
      "source": [
        "# here, i will be shuffling the train dataset to avoid that model learn noise and to include each kind of dataset in training\n",
        "import numpy as np\n",
        "shuffle_index = np.random.permutation(60000)\n",
        "x_train,y_train = x_train.values[shuffle_index], y_train.values[shuffle_index]"
      ],
      "execution_count": null,
      "outputs": []
    },
    {
      "cell_type": "markdown",
      "metadata": {
        "id": "dXQiJKuuT33q"
      },
      "source": [
        "### Showing the images and labels(MNIST)"
      ]
    },
    {
      "cell_type": "code",
      "metadata": {
        "colab": {
          "base_uri": "https://localhost:8080/",
          "height": 276
        },
        "id": "O7zMaCkIT0zZ",
        "outputId": "ea92a3cf-079b-4766-9fca-66670384f459"
      },
      "source": [
        "plt.figure(figsize=(20,4))\n",
        "\n",
        "for index, (image, label) in enumerate(zip(x_train[5:10], y_train[5:10])):\n",
        "  plt.subplot(1,5, index+1)\n",
        "  plt.imshow(np.reshape(image, (28,28)), cmap=plt.cm.gray)\n",
        "  plt.title(\"Training %i \\n\" %np.int8(label), fontsize=15)"
      ],
      "execution_count": null,
      "outputs": [
        {
          "output_type": "display_data",
          "data": {
            "text/plain": [
              "<Figure size 1440x288 with 5 Axes>"
            ],
            "image/png": "[encoded data removed]"
          },
          "metadata": {
            "needs_background": "light"
          }
        }
      ]
    },
    {
      "cell_type": "markdown",
      "metadata": {
        "id": "Q0-Lv2-bVokc"
      },
      "source": [
        "**As, it is a classification problem, but not a binary classification. I will give one example in this as by building a 2-detector that is this a 2 or not then we will apply this on training dataset and regognize the digits**"
      ]
    },
    {
      "cell_type": "markdown",
      "metadata": {
        "id": "G0F2-Pj_WS6H"
      },
      "source": [
        "## Building a 2-Detector"
      ]
    },
    {
      "cell_type": "code",
      "metadata": {
        "id": "f6h1KQdXU8Tg"
      },
      "source": [
        "y_train = y_train.astype(np.int8)\n",
        "y_test = y_test.astype(np.int8)\n",
        "y_train_2 = (y_train==2)\n",
        "y_test_2 = (y_test==2)"
      ],
      "execution_count": null,
      "outputs": []
    },
    {
      "cell_type": "code",
      "metadata": {
        "id": "28OUYMazWvFv"
      },
      "source": [
        "y_train_2\n",
        "# the chances for appearing a 2 only 10% among0-9 so it's showing mostly False."
      ],
      "execution_count": null,
      "outputs": []
    },
    {
      "cell_type": "code",
      "metadata": {
        "id": "heKhy_iPWx3e"
      },
      "source": [
        "from sklearn.linear_model import LogisticRegression\n",
        "log_clf = LogisticRegression(tol=0.1)"
      ],
      "execution_count": null,
      "outputs": []
    },
    {
      "cell_type": "code",
      "metadata": {
        "colab": {
          "base_uri": "https://localhost:8080/",
          "height": 74
        },
        "id": "R7Ns1UbZXEPL",
        "outputId": "950b60c9-6c32-4bec-d335-52d98d28b402"
      },
      "source": [
        "log_clf.fit(x_train,y_train_2)"
      ],
      "execution_count": null,
      "outputs": [
        {
          "output_type": "execute_result",
          "data": {
            "text/plain": [
              "LogisticRegression(tol=0.1)"
            ],
            "text/html": [
              "<style>#sk-container-id-1 {color: black;background-color: white;}#sk-container-id-1 pre{padding: 0;}#sk-container-id-1 div.sk-toggleable {background-color: white;}#sk-container-id-1 label.sk-toggleable__label {cursor: pointer;display: block;width: 100%;margin-bottom: 0;padding: 0.3em;box-sizing: border-box;text-align: center;}#sk-container-id-1 label.sk-toggleable__label-arrow:before {content: \"▸\";float: left;margin-right: 0.25em;color: #696969;}#sk-container-id-1 label.sk-toggleable__label-arrow:hover:before {color: black;}#sk-container-id-1 div.sk-estimator:hover label.sk-toggleable__label-arrow:before {color: black;}#sk-container-id-1 div.sk-toggleable__content {max-height: 0;max-width: 0;overflow: hidden;text-align: left;background-color: #f0f8ff;}#sk-container-id-1 div.sk-toggleable__content pre {margin: 0.2em;color: black;border-radius: 0.25em;background-color: #f0f8ff;}#sk-container-id-1 input.sk-toggleable__control:checked~div.sk-toggleable__content {max-height: 200px;max-width: 100%;overflow: auto;}#sk-container-id-1 input.sk-toggleable__control:checked~label.sk-toggleable__label-arrow:before {content: \"▾\";}#sk-container-id-1 div.sk-estimator input.sk-toggleable__control:checked~label.sk-toggleable__label {background-color: #d4ebff;}#sk-container-id-1 div.sk-label input.sk-toggleable__control:checked~label.sk-toggleable__label {background-color: #d4ebff;}#sk-container-id-1 input.sk-hidden--visually {border: 0;clip: rect(1px 1px 1px 1px);clip: rect(1px, 1px, 1px, 1px);height: 1px;margin: -1px;overflow: hidden;padding: 0;position: absolute;width: 1px;}#sk-container-id-1 div.sk-estimator {font-family: monospace;background-color: #f0f8ff;border: 1px dotted black;border-radius: 0.25em;box-sizing: border-box;margin-bottom: 0.5em;}#sk-container-id-1 div.sk-estimator:hover {background-color: #d4ebff;}#sk-container-id-1 div.sk-parallel-item::after {content: \"\";width: 100%;border-bottom: 1px solid gray;flex-grow: 1;}#sk-container-id-1 div.sk-label:hover label.sk-toggleable__label {background-color: #d4ebff;}#sk-container-id-1 div.sk-serial::before {content: \"\";position: absolute;border-left: 1px solid gray;box-sizing: border-box;top: 0;bottom: 0;left: 50%;z-index: 0;}#sk-container-id-1 div.sk-serial {display: flex;flex-direction: column;align-items: center;background-color: white;padding-right: 0.2em;padding-left: 0.2em;position: relative;}#sk-container-id-1 div.sk-item {position: relative;z-index: 1;}#sk-container-id-1 div.sk-parallel {display: flex;align-items: stretch;justify-content: center;background-color: white;position: relative;}#sk-container-id-1 div.sk-item::before, #sk-container-id-1 div.sk-parallel-item::before {content: \"\";position: absolute;border-left: 1px solid gray;box-sizing: border-box;top: 0;bottom: 0;left: 50%;z-index: -1;}#sk-container-id-1 div.sk-parallel-item {display: flex;flex-direction: column;z-index: 1;position: relative;background-color: white;}#sk-container-id-1 div.sk-parallel-item:first-child::after {align-self: flex-end;width: 50%;}#sk-container-id-1 div.sk-parallel-item:last-child::after {align-self: flex-start;width: 50%;}#sk-container-id-1 div.sk-parallel-item:only-child::after {width: 0;}#sk-container-id-1 div.sk-dashed-wrapped {border: 1px dashed gray;margin: 0 0.4em 0.5em 0.4em;box-sizing: border-box;padding-bottom: 0.4em;background-color: white;}#sk-container-id-1 div.sk-label label {font-family: monospace;font-weight: bold;display: inline-block;line-height: 1.2em;}#sk-container-id-1 div.sk-label-container {text-align: center;}#sk-container-id-1 div.sk-container {/* jupyter's `normalize.less` sets `[hidden] { display: none; }` but bootstrap.min.css set `[hidden] { display: none !important; }` so we also need the `!important` here to be able to override the default hidden behavior on the sphinx rendered scikit-learn.org. See: https://github.com/scikit-learn/scikit-learn/issues/21755 */display: inline-block !important;position: relative;}#sk-container-id-1 div.sk-text-repr-fallback {display: none;}</style><div id=\"sk-container-id-1\" class=\"sk-top-container\"><div class=\"sk-text-repr-fallback\"><pre>LogisticRegression(tol=0.1)</pre><b>In a Jupyter environment, please rerun this cell to show the HTML representation or trust the notebook. <br />On GitHub, the HTML representation is unable to render, please try loading this page with nbviewer.org.</b></div><div class=\"sk-container\" hidden><div class=\"sk-item\"><div class=\"sk-estimator sk-toggleable\"><input class=\"sk-toggleable__control sk-hidden--visually\" id=\"sk-estimator-id-1\" type=\"checkbox\" checked><label for=\"sk-estimator-id-1\" class=\"sk-toggleable__label sk-toggleable__label-arrow\">LogisticRegression</label><div class=\"sk-toggleable__content\"><pre>LogisticRegression(tol=0.1)</pre></div></div></div></div></div>"
            ]
          },
          "metadata": {},
          "execution_count": 25
        }
      ]
    },
    {
      "cell_type": "code",
      "metadata": {
        "colab": {
          "base_uri": "https://localhost:8080/"
        },
        "id": "5v7NTSwRXNrx",
        "outputId": "a161210b-ec90-479a-a20f-216986206091"
      },
      "source": [
        "# let's test it on our previous label which we plot as 2\n",
        "log_clf.predict(some_digit)\n",
        "# WOW!. nice, it has predicted correctly."
      ],
      "execution_count": null,
      "outputs": [
        {
          "output_type": "execute_result",
          "data": {
            "text/plain": [
              "array([ True])"
            ]
          },
          "metadata": {},
          "execution_count": 27
        }
      ]
    },
    {
      "cell_type": "code",
      "metadata": {
        "colab": {
          "base_uri": "https://localhost:8080/"
        },
        "id": "qD2Zcdz5Xa5N",
        "outputId": "40f0e4bc-59e1-4671-c14a-3a4b92ab06c2"
      },
      "source": [
        "# we can also cross-validate it and know the score, let's do that also.\n",
        "from sklearn.model_selection import cross_val_score\n",
        "\n",
        "cross_val_score(log_clf, x_train, y_train_2, scoring=\"accuracy\")"
      ],
      "execution_count": null,
      "outputs": [
        {
          "output_type": "execute_result",
          "data": {
            "text/plain": [
              "array([0.97808333, 0.97991667, 0.97941667, 0.97841667, 0.97733333])"
            ]
          },
          "metadata": {},
          "execution_count": 28
        }
      ]
    },
    {
      "cell_type": "markdown",
      "metadata": {
        "id": "dxnQL5ndapTT"
      },
      "source": [
        "**It's very good. we got a accuracy of 97 per cent. But it's simply a binary classification. now we will go and apply this on our training dataset**"
      ]
    },
    {
      "cell_type": "code",
      "metadata": {
        "id": "uqXt92-DYCa3"
      },
      "source": [
        "# create a new instance of model\n",
        "clf = LogisticRegression(solver='lbfgs')"
      ],
      "execution_count": null,
      "outputs": []
    },
    {
      "cell_type": "code",
      "metadata": {
        "colab": {
          "base_uri": "https://localhost:8080/",
          "height": 74
        },
        "id": "QeZNzLIzbQ39",
        "outputId": "06f670bd-5d21-46ac-a68a-508c28bd7f5e"
      },
      "source": [
        "clf.fit(x_train, y_train) \n",
        "# it will take some time to train, please wait!."
      ],
      "execution_count": null,
      "outputs": [
        {
          "output_type": "execute_result",
          "data": {
            "text/plain": [
              "LogisticRegression()"
            ],
            "text/html": [
              "<style>#sk-container-id-2 {color: black;background-color: white;}#sk-container-id-2 pre{padding: 0;}#sk-container-id-2 div.sk-toggleable {background-color: white;}#sk-container-id-2 label.sk-toggleable__label {cursor: pointer;display: block;width: 100%;margin-bottom: 0;padding: 0.3em;box-sizing: border-box;text-align: center;}#sk-container-id-2 label.sk-toggleable__label-arrow:before {content: \"▸\";float: left;margin-right: 0.25em;color: #696969;}#sk-container-id-2 label.sk-toggleable__label-arrow:hover:before {color: black;}#sk-container-id-2 div.sk-estimator:hover label.sk-toggleable__label-arrow:before {color: black;}#sk-container-id-2 div.sk-toggleable__content {max-height: 0;max-width: 0;overflow: hidden;text-align: left;background-color: #f0f8ff;}#sk-container-id-2 div.sk-toggleable__content pre {margin: 0.2em;color: black;border-radius: 0.25em;background-color: #f0f8ff;}#sk-container-id-2 input.sk-toggleable__control:checked~div.sk-toggleable__content {max-height: 200px;max-width: 100%;overflow: auto;}#sk-container-id-2 input.sk-toggleable__control:checked~label.sk-toggleable__label-arrow:before {content: \"▾\";}#sk-container-id-2 div.sk-estimator input.sk-toggleable__control:checked~label.sk-toggleable__label {background-color: #d4ebff;}#sk-container-id-2 div.sk-label input.sk-toggleable__control:checked~label.sk-toggleable__label {background-color: #d4ebff;}#sk-container-id-2 input.sk-hidden--visually {border: 0;clip: rect(1px 1px 1px 1px);clip: rect(1px, 1px, 1px, 1px);height: 1px;margin: -1px;overflow: hidden;padding: 0;position: absolute;width: 1px;}#sk-container-id-2 div.sk-estimator {font-family: monospace;background-color: #f0f8ff;border: 1px dotted black;border-radius: 0.25em;box-sizing: border-box;margin-bottom: 0.5em;}#sk-container-id-2 div.sk-estimator:hover {background-color: #d4ebff;}#sk-container-id-2 div.sk-parallel-item::after {content: \"\";width: 100%;border-bottom: 1px solid gray;flex-grow: 1;}#sk-container-id-2 div.sk-label:hover label.sk-toggleable__label {background-color: #d4ebff;}#sk-container-id-2 div.sk-serial::before {content: \"\";position: absolute;border-left: 1px solid gray;box-sizing: border-box;top: 0;bottom: 0;left: 50%;z-index: 0;}#sk-container-id-2 div.sk-serial {display: flex;flex-direction: column;align-items: center;background-color: white;padding-right: 0.2em;padding-left: 0.2em;position: relative;}#sk-container-id-2 div.sk-item {position: relative;z-index: 1;}#sk-container-id-2 div.sk-parallel {display: flex;align-items: stretch;justify-content: center;background-color: white;position: relative;}#sk-container-id-2 div.sk-item::before, #sk-container-id-2 div.sk-parallel-item::before {content: \"\";position: absolute;border-left: 1px solid gray;box-sizing: border-box;top: 0;bottom: 0;left: 50%;z-index: -1;}#sk-container-id-2 div.sk-parallel-item {display: flex;flex-direction: column;z-index: 1;position: relative;background-color: white;}#sk-container-id-2 div.sk-parallel-item:first-child::after {align-self: flex-end;width: 50%;}#sk-container-id-2 div.sk-parallel-item:last-child::after {align-self: flex-start;width: 50%;}#sk-container-id-2 div.sk-parallel-item:only-child::after {width: 0;}#sk-container-id-2 div.sk-dashed-wrapped {border: 1px dashed gray;margin: 0 0.4em 0.5em 0.4em;box-sizing: border-box;padding-bottom: 0.4em;background-color: white;}#sk-container-id-2 div.sk-label label {font-family: monospace;font-weight: bold;display: inline-block;line-height: 1.2em;}#sk-container-id-2 div.sk-label-container {text-align: center;}#sk-container-id-2 div.sk-container {/* jupyter's `normalize.less` sets `[hidden] { display: none; }` but bootstrap.min.css set `[hidden] { display: none !important; }` so we also need the `!important` here to be able to override the default hidden behavior on the sphinx rendered scikit-learn.org. See: https://github.com/scikit-learn/scikit-learn/issues/21755 */display: inline-block !important;position: relative;}#sk-container-id-2 div.sk-text-repr-fallback {display: none;}</style><div id=\"sk-container-id-2\" class=\"sk-top-container\"><div class=\"sk-text-repr-fallback\"><pre>LogisticRegression()</pre><b>In a Jupyter environment, please rerun this cell to show the HTML representation or trust the notebook. <br />On GitHub, the HTML representation is unable to render, please try loading this page with nbviewer.org.</b></div><div class=\"sk-container\" hidden><div class=\"sk-item\"><div class=\"sk-estimator sk-toggleable\"><input class=\"sk-toggleable__control sk-hidden--visually\" id=\"sk-estimator-id-2\" type=\"checkbox\" checked><label for=\"sk-estimator-id-2\" class=\"sk-toggleable__label sk-toggleable__label-arrow\">LogisticRegression</label><div class=\"sk-toggleable__content\"><pre>LogisticRegression()</pre></div></div></div></div></div>"
            ]
          },
          "metadata": {},
          "execution_count": 30
        }
      ]
    },
    {
      "cell_type": "code",
      "metadata": {
        "colab": {
          "base_uri": "https://localhost:8080/"
        },
        "id": "JbwDbbseb0Y_",
        "outputId": "7cb7d1a2-3a5d-4c03-8324-de5454050858"
      },
      "source": [
        "# predict the labels of new data(new images)\n",
        "#it will return a numpy array\n",
        "test=x_test.iloc[[0]]\n",
        "clf.predict(test.values.reshape(1,-1))"
      ],
      "execution_count": null,
      "outputs": [
        {
          "output_type": "execute_result",
          "data": {
            "text/plain": [
              "array([7], dtype=int8)"
            ]
          },
          "metadata": {},
          "execution_count": 38
        }
      ]
    },
    {
      "cell_type": "code",
      "metadata": {
        "colab": {
          "base_uri": "https://localhost:8080/"
        },
        "id": "De9jWj41cR0p",
        "outputId": "5102be20-c049-4b16-f3f7-5250c3f99ce9"
      },
      "source": [
        "# check the predicted label\n",
        "y_test.iloc[0]"
      ],
      "execution_count": null,
      "outputs": [
        {
          "output_type": "execute_result",
          "data": {
            "text/plain": [
              "7"
            ]
          },
          "metadata": {},
          "execution_count": 39
        }
      ]
    },
    {
      "cell_type": "code",
      "metadata": {
        "colab": {
          "base_uri": "https://localhost:8080/"
        },
        "id": "mHwqSuXTcbjX",
        "outputId": "bb04faa5-a534-432a-ac43-674d4b8c9ce7"
      },
      "source": [
        "# predict for multiple observation(many images)\n",
        "print(\"Predicted labels\")\n",
        "my_pred = clf.predict(x_test[0:10])\n",
        "print(my_pred)\n",
        "print(\"\\nTrue Labels\")\n",
        "y_test[0:10]  \n",
        "# we can see that only 1 point is mis-classified"
      ],
      "execution_count": null,
      "outputs": [
        {
          "output_type": "stream",
          "name": "stdout",
          "text": [
            "Predicted labels\n",
            "[7 2 1 0 4 1 4 9 6 9]\n",
            "\n",
            "True Labels\n"
          ]
        },
        {
          "output_type": "execute_result",
          "data": {
            "text/plain": [
              "60000    7\n",
              "60001    2\n",
              "60002    1\n",
              "60003    0\n",
              "60004    4\n",
              "60005    1\n",
              "60006    4\n",
              "60007    9\n",
              "60008    5\n",
              "60009    9\n",
              "Name: class, dtype: int8"
            ]
          },
          "metadata": {},
          "execution_count": 40
        }
      ]
    },
    {
      "cell_type": "code",
      "metadata": {
        "id": "q0LI0LF9cs_8"
      },
      "source": [
        "# make prediction on entire dataset\n",
        "predictions = clf.predict(x_test)"
      ],
      "execution_count": null,
      "outputs": []
    },
    {
      "cell_type": "markdown",
      "metadata": {
        "id": "Ko4AoaMvdVMO"
      },
      "source": [
        "## Measuring Model Performance(MNIST)\n",
        "- there are many metrics to measure the performance, for the ease of simplicity I am going to use accuracy score only. "
      ]
    },
    {
      "cell_type": "code",
      "metadata": {
        "colab": {
          "base_uri": "https://localhost:8080/"
        },
        "id": "nR8ywwSycwfR",
        "outputId": "3745815f-a26b-4a8a-88bd-16ae293947a9"
      },
      "source": [
        "score = clf.score(x_test, y_test)\n",
        "print(f\"accuracy score : {score}\")"
      ],
      "execution_count": null,
      "outputs": [
        {
          "output_type": "stream",
          "name": "stdout",
          "text": [
            "accuracy score : 0.9255\n"
          ]
        }
      ]
    },
    {
      "cell_type": "markdown",
      "metadata": {
        "id": "EJj7jNpMeDbl"
      },
      "source": [
        "**The score is still very nice, 92 percent accuracy**"
      ]
    },
    {
      "cell_type": "markdown",
      "metadata": {
        "id": "ib2KrlZdeKVM"
      },
      "source": [
        "## Displaying the misclassified images with predicted labels(MNIST) "
      ]
    },
    {
      "cell_type": "code",
      "metadata": {
        "id": "UZAb7kIvd0Qd"
      },
      "source": [
        "index=0\n",
        "misclassified_img = []\n",
        "for label, predict in zip(y_test, predictions):\n",
        "  if label != predict:\n",
        "    misclassified_img.append(index)\n",
        "  index += 1"
      ],
      "execution_count": null,
      "outputs": []
    },
    {
      "cell_type": "code",
      "metadata": {
        "colab": {
          "base_uri": "https://localhost:8080/",
          "height": 256
        },
        "id": "e-KkzPDse3IB",
        "outputId": "3f85b58c-81a0-48fd-b0ba-03a60d85e570"
      },
      "source": [
        "plt.figure(figsize=(20,4))\n",
        "for plotindex,misindex in enumerate(misclassified_img[0:5]):\n",
        "  plt.subplot(1, 5, plotindex+1)\n",
        "  M=x_test.iloc[[misindex]]\n",
        "  plt.imshow(np.reshape(M.values, (28,28)), cmap=plt.cm.gray)\n",
        "  plt.title(predictions[misindex])"
      ],
      "execution_count": null,
      "outputs": [
        {
          "output_type": "display_data",
          "data": {
            "text/plain": [
              "<Figure size 1440x288 with 5 Axes>"
            ],
            "image/png": "[encoded data removed]"
          },
          "metadata": {
            "needs_background": "light"
          }
        }
      ]
    },
    {
      "cell_type": "markdown",
      "metadata": {
        "id": "5L-iewCIgbHy"
      },
      "source": [
        "**Have you enjoyed the peoject till here, The important thing is making a Machine learning model in Sklearn is not a lot of work. The main thing is to get the concepts which are running behind it. I hope the notebook help you to find the best from this and whatever you motive for project is.**\n",
        "\n",
        "**Thank you so much.**"
      ]
    }
  ]
}